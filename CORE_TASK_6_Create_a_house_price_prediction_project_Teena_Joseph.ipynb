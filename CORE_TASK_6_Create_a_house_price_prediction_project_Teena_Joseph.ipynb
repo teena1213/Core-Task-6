{
  "cells": [
    {
      "cell_type": "markdown",
      "source": [
        "# **The Entreprenuership Network**"
      ],
      "metadata": {
        "id": "omspS1nb-sfT"
      }
    },
    {
      "cell_type": "markdown",
      "source": [
        "#**CORE TASK 6 - Create a house price prediction project.**"
      ],
      "metadata": {
        "id": "S5jZQKQD-15i"
      }
    },
    {
      "cell_type": "markdown",
      "source": [
        "**Author Name : Teena Joseph(MSC DA), Rajagiri College of Social Sciences**"
      ],
      "metadata": {
        "id": "q3ZLNUmw_Bpf"
      }
    },
    {
      "cell_type": "markdown",
      "metadata": {
        "papermill": {
          "duration": 0.088534,
          "end_time": "2021-03-28T15:06:36.936840",
          "exception": false,
          "start_time": "2021-03-28T15:06:36.848306",
          "status": "completed"
        },
        "tags": [],
        "id": "ulfz1FtC85uv"
      },
      "source": [
        "**We import the main libraries.**"
      ]
    },
    {
      "cell_type": "code",
      "execution_count": null,
      "metadata": {
        "execution": {
          "iopub.execute_input": "2021-03-28T15:06:37.125387Z",
          "iopub.status.busy": "2021-03-28T15:06:37.124505Z",
          "iopub.status.idle": "2021-03-28T15:06:39.089465Z",
          "shell.execute_reply": "2021-03-28T15:06:39.089981Z"
        },
        "papermill": {
          "duration": 2.061999,
          "end_time": "2021-03-28T15:06:39.090195",
          "exception": false,
          "start_time": "2021-03-28T15:06:37.028196",
          "status": "completed"
        },
        "tags": [],
        "id": "495EB70a85uw"
      },
      "outputs": [],
      "source": [
        "#import pandas as pd\n",
        "#import numpy as np\n",
        "import seaborn as sns\n",
        "import matplotlib.pyplot as plt\n",
        "%matplotlib inline\n",
        "from sklearn.linear_model import LinearRegression\n",
        "from sklearn.model_selection import train_test_split\n",
        "from sklearn.metrics import accuracy_score,mean_squared_error,mean_absolute_error\n",
        "from sklearn.preprocessing import PolynomialFeatures, StandardScaler\n",
        "from sklearn.neighbors import KNeighborsRegressor\n",
        "from sklearn.ensemble import RandomForestRegressor\n",
        "from sklearn.tree import DecisionTreeRegressor\n",
        "from xgboost import XGBRegressor"
      ]
    },
    {
      "cell_type": "markdown",
      "metadata": {
        "papermill": {
          "duration": 0.090937,
          "end_time": "2021-03-28T15:06:39.269662",
          "exception": false,
          "start_time": "2021-03-28T15:06:39.178725",
          "status": "completed"
        },
        "tags": [],
        "id": "Ao6Ms2aH85ux"
      },
      "source": [
        "**resize our plots**"
      ]
    },
    {
      "cell_type": "code",
      "execution_count": null,
      "metadata": {
        "execution": {
          "iopub.execute_input": "2021-03-28T15:06:39.463819Z",
          "iopub.status.busy": "2021-03-28T15:06:39.462702Z",
          "iopub.status.idle": "2021-03-28T15:06:39.468059Z",
          "shell.execute_reply": "2021-03-28T15:06:39.468732Z"
        },
        "papermill": {
          "duration": 0.106243,
          "end_time": "2021-03-28T15:06:39.468922",
          "exception": false,
          "start_time": "2021-03-28T15:06:39.362679",
          "status": "completed"
        },
        "tags": [],
        "id": "Kcs9vZ0E85uy"
      },
      "outputs": [],
      "source": [
        "def resizeplot(l,a):\n",
        "    plt.figure(figsize=(l,a))"
      ]
    },
    {
      "cell_type": "code",
      "execution_count": null,
      "metadata": {
        "execution": {
          "iopub.execute_input": "2021-03-28T15:06:39.656238Z",
          "iopub.status.busy": "2021-03-28T15:06:39.655518Z",
          "iopub.status.idle": "2021-03-28T15:06:39.802148Z",
          "shell.execute_reply": "2021-03-28T15:06:39.801405Z"
        },
        "papermill": {
          "duration": 0.240389,
          "end_time": "2021-03-28T15:06:39.802299",
          "exception": false,
          "start_time": "2021-03-28T15:06:39.561910",
          "status": "completed"
        },
        "tags": [],
        "id": "DNZQrRZ-85u0"
      },
      "outputs": [],
      "source": [
        "df = pd.read_csv('kc_house_data.csv')"
      ]
    },
    {
      "cell_type": "code",
      "execution_count": null,
      "metadata": {
        "execution": {
          "iopub.execute_input": "2021-03-28T15:06:40.028176Z",
          "iopub.status.busy": "2021-03-28T15:06:40.027493Z",
          "iopub.status.idle": "2021-03-28T15:06:40.064534Z",
          "shell.execute_reply": "2021-03-28T15:06:40.063960Z"
        },
        "papermill": {
          "duration": 0.163629,
          "end_time": "2021-03-28T15:06:40.064703",
          "exception": false,
          "start_time": "2021-03-28T15:06:39.901074",
          "status": "completed"
        },
        "tags": [],
        "id": "XNbAsJ0985u2",
        "outputId": "1cba0eb2-b3b4-4ecf-a11d-f342e70765ac"
      },
      "outputs": [
        {
          "data": {
            "text/html": [
              "<div>\n",
              "<style scoped>\n",
              "    .dataframe tbody tr th:only-of-type {\n",
              "        vertical-align: middle;\n",
              "    }\n",
              "\n",
              "    .dataframe tbody tr th {\n",
              "        vertical-align: top;\n",
              "    }\n",
              "\n",
              "    .dataframe thead th {\n",
              "        text-align: right;\n",
              "    }\n",
              "</style>\n",
              "<table border=\"1\" class=\"dataframe\">\n",
              "  <thead>\n",
              "    <tr style=\"text-align: right;\">\n",
              "      <th></th>\n",
              "      <th>id</th>\n",
              "      <th>date</th>\n",
              "      <th>price</th>\n",
              "      <th>bedrooms</th>\n",
              "      <th>bathrooms</th>\n",
              "      <th>sqft_living</th>\n",
              "      <th>sqft_lot</th>\n",
              "      <th>floors</th>\n",
              "      <th>waterfront</th>\n",
              "      <th>view</th>\n",
              "      <th>...</th>\n",
              "      <th>grade</th>\n",
              "      <th>sqft_above</th>\n",
              "      <th>sqft_basement</th>\n",
              "      <th>yr_built</th>\n",
              "      <th>yr_renovated</th>\n",
              "      <th>zipcode</th>\n",
              "      <th>lat</th>\n",
              "      <th>long</th>\n",
              "      <th>sqft_living15</th>\n",
              "      <th>sqft_lot15</th>\n",
              "    </tr>\n",
              "  </thead>\n",
              "  <tbody>\n",
              "    <tr>\n",
              "      <th>0</th>\n",
              "      <td>7129300520</td>\n",
              "      <td>20141013T000000</td>\n",
              "      <td>221900.0</td>\n",
              "      <td>3</td>\n",
              "      <td>1.00</td>\n",
              "      <td>1180</td>\n",
              "      <td>5650</td>\n",
              "      <td>1.0</td>\n",
              "      <td>0</td>\n",
              "      <td>0</td>\n",
              "      <td>...</td>\n",
              "      <td>7</td>\n",
              "      <td>1180.0</td>\n",
              "      <td>0</td>\n",
              "      <td>1955</td>\n",
              "      <td>0</td>\n",
              "      <td>98178</td>\n",
              "      <td>47.5112</td>\n",
              "      <td>-122.257</td>\n",
              "      <td>1340</td>\n",
              "      <td>5650</td>\n",
              "    </tr>\n",
              "    <tr>\n",
              "      <th>1</th>\n",
              "      <td>6414100192</td>\n",
              "      <td>20141209T000000</td>\n",
              "      <td>538000.0</td>\n",
              "      <td>3</td>\n",
              "      <td>2.25</td>\n",
              "      <td>2570</td>\n",
              "      <td>7242</td>\n",
              "      <td>2.0</td>\n",
              "      <td>0</td>\n",
              "      <td>0</td>\n",
              "      <td>...</td>\n",
              "      <td>7</td>\n",
              "      <td>2170.0</td>\n",
              "      <td>400</td>\n",
              "      <td>1951</td>\n",
              "      <td>1991</td>\n",
              "      <td>98125</td>\n",
              "      <td>47.7210</td>\n",
              "      <td>-122.319</td>\n",
              "      <td>1690</td>\n",
              "      <td>7639</td>\n",
              "    </tr>\n",
              "    <tr>\n",
              "      <th>2</th>\n",
              "      <td>5631500400</td>\n",
              "      <td>20150225T000000</td>\n",
              "      <td>180000.0</td>\n",
              "      <td>2</td>\n",
              "      <td>1.00</td>\n",
              "      <td>770</td>\n",
              "      <td>10000</td>\n",
              "      <td>1.0</td>\n",
              "      <td>0</td>\n",
              "      <td>0</td>\n",
              "      <td>...</td>\n",
              "      <td>6</td>\n",
              "      <td>770.0</td>\n",
              "      <td>0</td>\n",
              "      <td>1933</td>\n",
              "      <td>0</td>\n",
              "      <td>98028</td>\n",
              "      <td>47.7379</td>\n",
              "      <td>-122.233</td>\n",
              "      <td>2720</td>\n",
              "      <td>8062</td>\n",
              "    </tr>\n",
              "    <tr>\n",
              "      <th>3</th>\n",
              "      <td>2487200875</td>\n",
              "      <td>20141209T000000</td>\n",
              "      <td>604000.0</td>\n",
              "      <td>4</td>\n",
              "      <td>3.00</td>\n",
              "      <td>1960</td>\n",
              "      <td>5000</td>\n",
              "      <td>1.0</td>\n",
              "      <td>0</td>\n",
              "      <td>0</td>\n",
              "      <td>...</td>\n",
              "      <td>7</td>\n",
              "      <td>1050.0</td>\n",
              "      <td>910</td>\n",
              "      <td>1965</td>\n",
              "      <td>0</td>\n",
              "      <td>98136</td>\n",
              "      <td>47.5208</td>\n",
              "      <td>-122.393</td>\n",
              "      <td>1360</td>\n",
              "      <td>5000</td>\n",
              "    </tr>\n",
              "    <tr>\n",
              "      <th>4</th>\n",
              "      <td>1954400510</td>\n",
              "      <td>20150218T000000</td>\n",
              "      <td>510000.0</td>\n",
              "      <td>3</td>\n",
              "      <td>2.00</td>\n",
              "      <td>1680</td>\n",
              "      <td>8080</td>\n",
              "      <td>1.0</td>\n",
              "      <td>0</td>\n",
              "      <td>0</td>\n",
              "      <td>...</td>\n",
              "      <td>8</td>\n",
              "      <td>1680.0</td>\n",
              "      <td>0</td>\n",
              "      <td>1987</td>\n",
              "      <td>0</td>\n",
              "      <td>98074</td>\n",
              "      <td>47.6168</td>\n",
              "      <td>-122.045</td>\n",
              "      <td>1800</td>\n",
              "      <td>7503</td>\n",
              "    </tr>\n",
              "  </tbody>\n",
              "</table>\n",
              "<p>5 rows × 21 columns</p>\n",
              "</div>"
            ],
            "text/plain": [
              "           id             date     price  bedrooms  bathrooms  sqft_living  \\\n",
              "0  7129300520  20141013T000000  221900.0         3       1.00         1180   \n",
              "1  6414100192  20141209T000000  538000.0         3       2.25         2570   \n",
              "2  5631500400  20150225T000000  180000.0         2       1.00          770   \n",
              "3  2487200875  20141209T000000  604000.0         4       3.00         1960   \n",
              "4  1954400510  20150218T000000  510000.0         3       2.00         1680   \n",
              "\n",
              "   sqft_lot  floors  waterfront  view  ...  grade  sqft_above  sqft_basement  \\\n",
              "0      5650     1.0           0     0  ...      7      1180.0              0   \n",
              "1      7242     2.0           0     0  ...      7      2170.0            400   \n",
              "2     10000     1.0           0     0  ...      6       770.0              0   \n",
              "3      5000     1.0           0     0  ...      7      1050.0            910   \n",
              "4      8080     1.0           0     0  ...      8      1680.0              0   \n",
              "\n",
              "   yr_built  yr_renovated  zipcode      lat     long  sqft_living15  \\\n",
              "0      1955             0    98178  47.5112 -122.257           1340   \n",
              "1      1951          1991    98125  47.7210 -122.319           1690   \n",
              "2      1933             0    98028  47.7379 -122.233           2720   \n",
              "3      1965             0    98136  47.5208 -122.393           1360   \n",
              "4      1987             0    98074  47.6168 -122.045           1800   \n",
              "\n",
              "   sqft_lot15  \n",
              "0        5650  \n",
              "1        7639  \n",
              "2        8062  \n",
              "3        5000  \n",
              "4        7503  \n",
              "\n",
              "[5 rows x 21 columns]"
            ]
          },
          "execution_count": 5,
          "metadata": {},
          "output_type": "execute_result"
        }
      ],
      "source": [
        "df.head()"
      ]
    },
    {
      "cell_type": "markdown",
      "metadata": {
        "papermill": {
          "duration": 0.091272,
          "end_time": "2021-03-28T15:06:40.250816",
          "exception": false,
          "start_time": "2021-03-28T15:06:40.159544",
          "status": "completed"
        },
        "tags": [],
        "id": "mkwIssto85u3"
      },
      "source": [
        "**Let's drop the 'id' column. Not important for our work here.**"
      ]
    },
    {
      "cell_type": "code",
      "execution_count": null,
      "metadata": {
        "execution": {
          "iopub.execute_input": "2021-03-28T15:06:40.479095Z",
          "iopub.status.busy": "2021-03-28T15:06:40.478286Z",
          "iopub.status.idle": "2021-03-28T15:06:40.482530Z",
          "shell.execute_reply": "2021-03-28T15:06:40.481780Z"
        },
        "papermill": {
          "duration": 0.114189,
          "end_time": "2021-03-28T15:06:40.482686",
          "exception": false,
          "start_time": "2021-03-28T15:06:40.368497",
          "status": "completed"
        },
        "tags": [],
        "id": "dq-Z0TeW85u5"
      },
      "outputs": [],
      "source": [
        "df.drop('id',inplace=True,axis=1)"
      ]
    },
    {
      "cell_type": "markdown",
      "metadata": {
        "papermill": {
          "duration": 0.089926,
          "end_time": "2021-03-28T15:06:40.665835",
          "exception": false,
          "start_time": "2021-03-28T15:06:40.575909",
          "status": "completed"
        },
        "tags": [],
        "id": "SjOXUhLW85u6"
      },
      "source": [
        "**Let's see with what we're dealing with.**"
      ]
    },
    {
      "cell_type": "code",
      "execution_count": null,
      "metadata": {
        "execution": {
          "iopub.execute_input": "2021-03-28T15:06:40.849300Z",
          "iopub.status.busy": "2021-03-28T15:06:40.848442Z",
          "iopub.status.idle": "2021-03-28T15:06:40.869273Z",
          "shell.execute_reply": "2021-03-28T15:06:40.870260Z"
        },
        "papermill": {
          "duration": 0.117251,
          "end_time": "2021-03-28T15:06:40.870529",
          "exception": false,
          "start_time": "2021-03-28T15:06:40.753278",
          "status": "completed"
        },
        "tags": [],
        "id": "rJw2K1_G85u7",
        "outputId": "04f4637e-55aa-426a-f908-ea78527f2d34"
      },
      "outputs": [
        {
          "name": "stdout",
          "output_type": "stream",
          "text": [
            "<class 'pandas.core.frame.DataFrame'>\n",
            "RangeIndex: 21613 entries, 0 to 21612\n",
            "Data columns (total 20 columns):\n",
            " #   Column         Non-Null Count  Dtype  \n",
            "---  ------         --------------  -----  \n",
            " 0   date           21613 non-null  object \n",
            " 1   price          21613 non-null  float64\n",
            " 2   bedrooms       21613 non-null  int64  \n",
            " 3   bathrooms      21613 non-null  float64\n",
            " 4   sqft_living    21613 non-null  int64  \n",
            " 5   sqft_lot       21613 non-null  int64  \n",
            " 6   floors         21613 non-null  float64\n",
            " 7   waterfront     21613 non-null  int64  \n",
            " 8   view           21613 non-null  int64  \n",
            " 9   condition      21613 non-null  int64  \n",
            " 10  grade          21613 non-null  int64  \n",
            " 11  sqft_above     21611 non-null  float64\n",
            " 12  sqft_basement  21613 non-null  int64  \n",
            " 13  yr_built       21613 non-null  int64  \n",
            " 14  yr_renovated   21613 non-null  int64  \n",
            " 15  zipcode        21613 non-null  int64  \n",
            " 16  lat            21613 non-null  float64\n",
            " 17  long           21613 non-null  float64\n",
            " 18  sqft_living15  21613 non-null  int64  \n",
            " 19  sqft_lot15     21613 non-null  int64  \n",
            "dtypes: float64(6), int64(13), object(1)\n",
            "memory usage: 3.3+ MB\n"
          ]
        }
      ],
      "source": [
        "df.info()"
      ]
    },
    {
      "cell_type": "markdown",
      "metadata": {
        "papermill": {
          "duration": 0.086407,
          "end_time": "2021-03-28T15:06:41.047363",
          "exception": false,
          "start_time": "2021-03-28T15:06:40.960956",
          "status": "completed"
        },
        "tags": [],
        "id": "ZHJ-4QmG85u8"
      },
      "source": [
        "**Now, I'll transform the 'date' column in a usefull column, spliting it in a Year column and Month column.**"
      ]
    },
    {
      "cell_type": "code",
      "execution_count": null,
      "metadata": {
        "execution": {
          "iopub.execute_input": "2021-03-28T15:06:41.232519Z",
          "iopub.status.busy": "2021-03-28T15:06:41.231698Z",
          "iopub.status.idle": "2021-03-28T15:06:41.241700Z",
          "shell.execute_reply": "2021-03-28T15:06:41.242263Z"
        },
        "papermill": {
          "duration": 0.105117,
          "end_time": "2021-03-28T15:06:41.242455",
          "exception": false,
          "start_time": "2021-03-28T15:06:41.137338",
          "status": "completed"
        },
        "tags": [],
        "id": "iksLEAeZ85u9"
      },
      "outputs": [],
      "source": [
        "df['date'] = pd.to_datetime(df['date'])"
      ]
    },
    {
      "cell_type": "code",
      "execution_count": null,
      "metadata": {
        "execution": {
          "iopub.execute_input": "2021-03-28T15:06:41.424425Z",
          "iopub.status.busy": "2021-03-28T15:06:41.423587Z",
          "iopub.status.idle": "2021-03-28T15:06:41.672413Z",
          "shell.execute_reply": "2021-03-28T15:06:41.672987Z"
        },
        "papermill": {
          "duration": 0.342151,
          "end_time": "2021-03-28T15:06:41.673311",
          "exception": false,
          "start_time": "2021-03-28T15:06:41.331160",
          "status": "completed"
        },
        "tags": [],
        "id": "FuQuK-ga85u-"
      },
      "outputs": [],
      "source": [
        "df['Month'] = df['date'].apply(lambda date: date.month)\n",
        "df['Year'] = df['date'].apply(lambda date: date.year)"
      ]
    },
    {
      "cell_type": "markdown",
      "metadata": {
        "papermill": {
          "duration": 0.086543,
          "end_time": "2021-03-28T15:06:41.847629",
          "exception": false,
          "start_time": "2021-03-28T15:06:41.761086",
          "status": "completed"
        },
        "tags": [],
        "id": "7rQuhQ1_85u_"
      },
      "source": [
        "**result.**"
      ]
    },
    {
      "cell_type": "code",
      "execution_count": null,
      "metadata": {
        "execution": {
          "iopub.execute_input": "2021-03-28T15:06:42.026160Z",
          "iopub.status.busy": "2021-03-28T15:06:42.025480Z",
          "iopub.status.idle": "2021-03-28T15:06:42.053097Z",
          "shell.execute_reply": "2021-03-28T15:06:42.052524Z"
        },
        "papermill": {
          "duration": 0.117756,
          "end_time": "2021-03-28T15:06:42.053268",
          "exception": false,
          "start_time": "2021-03-28T15:06:41.935512",
          "status": "completed"
        },
        "tags": [],
        "id": "SkmUnpmr85vA",
        "outputId": "9ea3392e-dc75-49c3-ffe7-cac7e452403d"
      },
      "outputs": [
        {
          "data": {
            "text/html": [
              "<div>\n",
              "<style scoped>\n",
              "    .dataframe tbody tr th:only-of-type {\n",
              "        vertical-align: middle;\n",
              "    }\n",
              "\n",
              "    .dataframe tbody tr th {\n",
              "        vertical-align: top;\n",
              "    }\n",
              "\n",
              "    .dataframe thead th {\n",
              "        text-align: right;\n",
              "    }\n",
              "</style>\n",
              "<table border=\"1\" class=\"dataframe\">\n",
              "  <thead>\n",
              "    <tr style=\"text-align: right;\">\n",
              "      <th></th>\n",
              "      <th>date</th>\n",
              "      <th>price</th>\n",
              "      <th>bedrooms</th>\n",
              "      <th>bathrooms</th>\n",
              "      <th>sqft_living</th>\n",
              "      <th>sqft_lot</th>\n",
              "      <th>floors</th>\n",
              "      <th>waterfront</th>\n",
              "      <th>view</th>\n",
              "      <th>condition</th>\n",
              "      <th>...</th>\n",
              "      <th>sqft_basement</th>\n",
              "      <th>yr_built</th>\n",
              "      <th>yr_renovated</th>\n",
              "      <th>zipcode</th>\n",
              "      <th>lat</th>\n",
              "      <th>long</th>\n",
              "      <th>sqft_living15</th>\n",
              "      <th>sqft_lot15</th>\n",
              "      <th>Month</th>\n",
              "      <th>Year</th>\n",
              "    </tr>\n",
              "  </thead>\n",
              "  <tbody>\n",
              "    <tr>\n",
              "      <th>0</th>\n",
              "      <td>2014-10-13</td>\n",
              "      <td>221900.0</td>\n",
              "      <td>3</td>\n",
              "      <td>1.00</td>\n",
              "      <td>1180</td>\n",
              "      <td>5650</td>\n",
              "      <td>1.0</td>\n",
              "      <td>0</td>\n",
              "      <td>0</td>\n",
              "      <td>3</td>\n",
              "      <td>...</td>\n",
              "      <td>0</td>\n",
              "      <td>1955</td>\n",
              "      <td>0</td>\n",
              "      <td>98178</td>\n",
              "      <td>47.5112</td>\n",
              "      <td>-122.257</td>\n",
              "      <td>1340</td>\n",
              "      <td>5650</td>\n",
              "      <td>10</td>\n",
              "      <td>2014</td>\n",
              "    </tr>\n",
              "    <tr>\n",
              "      <th>1</th>\n",
              "      <td>2014-12-09</td>\n",
              "      <td>538000.0</td>\n",
              "      <td>3</td>\n",
              "      <td>2.25</td>\n",
              "      <td>2570</td>\n",
              "      <td>7242</td>\n",
              "      <td>2.0</td>\n",
              "      <td>0</td>\n",
              "      <td>0</td>\n",
              "      <td>3</td>\n",
              "      <td>...</td>\n",
              "      <td>400</td>\n",
              "      <td>1951</td>\n",
              "      <td>1991</td>\n",
              "      <td>98125</td>\n",
              "      <td>47.7210</td>\n",
              "      <td>-122.319</td>\n",
              "      <td>1690</td>\n",
              "      <td>7639</td>\n",
              "      <td>12</td>\n",
              "      <td>2014</td>\n",
              "    </tr>\n",
              "    <tr>\n",
              "      <th>2</th>\n",
              "      <td>2015-02-25</td>\n",
              "      <td>180000.0</td>\n",
              "      <td>2</td>\n",
              "      <td>1.00</td>\n",
              "      <td>770</td>\n",
              "      <td>10000</td>\n",
              "      <td>1.0</td>\n",
              "      <td>0</td>\n",
              "      <td>0</td>\n",
              "      <td>3</td>\n",
              "      <td>...</td>\n",
              "      <td>0</td>\n",
              "      <td>1933</td>\n",
              "      <td>0</td>\n",
              "      <td>98028</td>\n",
              "      <td>47.7379</td>\n",
              "      <td>-122.233</td>\n",
              "      <td>2720</td>\n",
              "      <td>8062</td>\n",
              "      <td>2</td>\n",
              "      <td>2015</td>\n",
              "    </tr>\n",
              "    <tr>\n",
              "      <th>3</th>\n",
              "      <td>2014-12-09</td>\n",
              "      <td>604000.0</td>\n",
              "      <td>4</td>\n",
              "      <td>3.00</td>\n",
              "      <td>1960</td>\n",
              "      <td>5000</td>\n",
              "      <td>1.0</td>\n",
              "      <td>0</td>\n",
              "      <td>0</td>\n",
              "      <td>5</td>\n",
              "      <td>...</td>\n",
              "      <td>910</td>\n",
              "      <td>1965</td>\n",
              "      <td>0</td>\n",
              "      <td>98136</td>\n",
              "      <td>47.5208</td>\n",
              "      <td>-122.393</td>\n",
              "      <td>1360</td>\n",
              "      <td>5000</td>\n",
              "      <td>12</td>\n",
              "      <td>2014</td>\n",
              "    </tr>\n",
              "    <tr>\n",
              "      <th>4</th>\n",
              "      <td>2015-02-18</td>\n",
              "      <td>510000.0</td>\n",
              "      <td>3</td>\n",
              "      <td>2.00</td>\n",
              "      <td>1680</td>\n",
              "      <td>8080</td>\n",
              "      <td>1.0</td>\n",
              "      <td>0</td>\n",
              "      <td>0</td>\n",
              "      <td>3</td>\n",
              "      <td>...</td>\n",
              "      <td>0</td>\n",
              "      <td>1987</td>\n",
              "      <td>0</td>\n",
              "      <td>98074</td>\n",
              "      <td>47.6168</td>\n",
              "      <td>-122.045</td>\n",
              "      <td>1800</td>\n",
              "      <td>7503</td>\n",
              "      <td>2</td>\n",
              "      <td>2015</td>\n",
              "    </tr>\n",
              "  </tbody>\n",
              "</table>\n",
              "<p>5 rows × 22 columns</p>\n",
              "</div>"
            ],
            "text/plain": [
              "        date     price  bedrooms  bathrooms  sqft_living  sqft_lot  floors  \\\n",
              "0 2014-10-13  221900.0         3       1.00         1180      5650     1.0   \n",
              "1 2014-12-09  538000.0         3       2.25         2570      7242     2.0   \n",
              "2 2015-02-25  180000.0         2       1.00          770     10000     1.0   \n",
              "3 2014-12-09  604000.0         4       3.00         1960      5000     1.0   \n",
              "4 2015-02-18  510000.0         3       2.00         1680      8080     1.0   \n",
              "\n",
              "   waterfront  view  condition  ...  sqft_basement  yr_built  yr_renovated  \\\n",
              "0           0     0          3  ...              0      1955             0   \n",
              "1           0     0          3  ...            400      1951          1991   \n",
              "2           0     0          3  ...              0      1933             0   \n",
              "3           0     0          5  ...            910      1965             0   \n",
              "4           0     0          3  ...              0      1987             0   \n",
              "\n",
              "   zipcode      lat     long  sqft_living15  sqft_lot15  Month  Year  \n",
              "0    98178  47.5112 -122.257           1340        5650     10  2014  \n",
              "1    98125  47.7210 -122.319           1690        7639     12  2014  \n",
              "2    98028  47.7379 -122.233           2720        8062      2  2015  \n",
              "3    98136  47.5208 -122.393           1360        5000     12  2014  \n",
              "4    98074  47.6168 -122.045           1800        7503      2  2015  \n",
              "\n",
              "[5 rows x 22 columns]"
            ]
          },
          "execution_count": 10,
          "metadata": {},
          "output_type": "execute_result"
        }
      ],
      "source": [
        "df.head()"
      ]
    },
    {
      "cell_type": "code",
      "execution_count": null,
      "metadata": {
        "execution": {
          "iopub.execute_input": "2021-03-28T15:06:42.416393Z",
          "iopub.status.busy": "2021-03-28T15:06:42.415691Z",
          "iopub.status.idle": "2021-03-28T15:06:42.418059Z",
          "shell.execute_reply": "2021-03-28T15:06:42.418595Z"
        },
        "papermill": {
          "duration": 0.099989,
          "end_time": "2021-03-28T15:06:42.418787",
          "exception": false,
          "start_time": "2021-03-28T15:06:42.318798",
          "status": "completed"
        },
        "tags": [],
        "id": "Wq0Iqh9I85vB"
      },
      "outputs": [],
      "source": [
        "df['bathrooms'] = np.round(df['bathrooms'])\n",
        "df['floors'] = np.round(df['floors'])"
      ]
    },
    {
      "cell_type": "code",
      "execution_count": null,
      "metadata": {
        "execution": {
          "iopub.execute_input": "2021-03-28T15:06:42.787372Z",
          "iopub.status.busy": "2021-03-28T15:06:42.786675Z",
          "iopub.status.idle": "2021-03-28T15:06:42.795839Z",
          "shell.execute_reply": "2021-03-28T15:06:42.796485Z"
        },
        "papermill": {
          "duration": 0.10498,
          "end_time": "2021-03-28T15:06:42.796681",
          "exception": false,
          "start_time": "2021-03-28T15:06:42.691701",
          "status": "completed"
        },
        "tags": [],
        "id": "eWOUzDpD85vC",
        "outputId": "8da325d3-0504-49a8-f8b8-dcc29ba2261e"
      },
      "outputs": [
        {
          "data": {
            "text/plain": [
              "date             0\n",
              "price            0\n",
              "bedrooms         0\n",
              "bathrooms        0\n",
              "sqft_living      0\n",
              "sqft_lot         0\n",
              "floors           0\n",
              "waterfront       0\n",
              "view             0\n",
              "condition        0\n",
              "grade            0\n",
              "sqft_above       2\n",
              "sqft_basement    0\n",
              "yr_built         0\n",
              "yr_renovated     0\n",
              "zipcode          0\n",
              "lat              0\n",
              "long             0\n",
              "sqft_living15    0\n",
              "sqft_lot15       0\n",
              "Month            0\n",
              "Year             0\n",
              "dtype: int64"
            ]
          },
          "execution_count": 12,
          "metadata": {},
          "output_type": "execute_result"
        }
      ],
      "source": [
        "df.isnull().sum()"
      ]
    },
    {
      "cell_type": "code",
      "execution_count": null,
      "metadata": {
        "execution": {
          "iopub.execute_input": "2021-03-28T15:06:43.160947Z",
          "iopub.status.busy": "2021-03-28T15:06:43.160316Z",
          "iopub.status.idle": "2021-03-28T15:06:43.196437Z",
          "shell.execute_reply": "2021-03-28T15:06:43.194611Z"
        },
        "papermill": {
          "duration": 0.129451,
          "end_time": "2021-03-28T15:06:43.196621",
          "exception": false,
          "start_time": "2021-03-28T15:06:43.067170",
          "status": "completed"
        },
        "tags": [],
        "id": "Q5ccCsZm85vE"
      },
      "outputs": [],
      "source": [
        "df.dropna(inplace=True)"
      ]
    },
    {
      "cell_type": "code",
      "execution_count": null,
      "metadata": {
        "execution": {
          "iopub.execute_input": "2021-03-28T15:06:43.562204Z",
          "iopub.status.busy": "2021-03-28T15:06:43.561473Z",
          "iopub.status.idle": "2021-03-28T15:06:43.563450Z",
          "shell.execute_reply": "2021-03-28T15:06:43.564119Z"
        },
        "papermill": {
          "duration": 0.098808,
          "end_time": "2021-03-28T15:06:43.564308",
          "exception": false,
          "start_time": "2021-03-28T15:06:43.465500",
          "status": "completed"
        },
        "tags": [],
        "id": "vD37r__Z85vF"
      },
      "outputs": [],
      "source": [
        "df.drop('date',inplace=True,axis=1)"
      ]
    },
    {
      "cell_type": "code",
      "execution_count": null,
      "metadata": {
        "execution": {
          "iopub.execute_input": "2021-03-28T15:06:43.744752Z",
          "iopub.status.busy": "2021-03-28T15:06:43.744091Z",
          "iopub.status.idle": "2021-03-28T15:06:43.753634Z",
          "shell.execute_reply": "2021-03-28T15:06:43.752866Z"
        },
        "papermill": {
          "duration": 0.10102,
          "end_time": "2021-03-28T15:06:43.753784",
          "exception": false,
          "start_time": "2021-03-28T15:06:43.652764",
          "status": "completed"
        },
        "tags": [],
        "id": "on1vlNRW85vF",
        "outputId": "92ba4076-0e03-4c4f-9e72-93af2ef405bd"
      },
      "outputs": [
        {
          "data": {
            "text/plain": [
              "price            0\n",
              "bedrooms         0\n",
              "bathrooms        0\n",
              "sqft_living      0\n",
              "sqft_lot         0\n",
              "floors           0\n",
              "waterfront       0\n",
              "view             0\n",
              "condition        0\n",
              "grade            0\n",
              "sqft_above       0\n",
              "sqft_basement    0\n",
              "yr_built         0\n",
              "yr_renovated     0\n",
              "zipcode          0\n",
              "lat              0\n",
              "long             0\n",
              "sqft_living15    0\n",
              "sqft_lot15       0\n",
              "Month            0\n",
              "Year             0\n",
              "dtype: int64"
            ]
          },
          "execution_count": 15,
          "metadata": {},
          "output_type": "execute_result"
        }
      ],
      "source": [
        "df.isnull().sum()"
      ]
    },
    {
      "cell_type": "markdown",
      "metadata": {
        "papermill": {
          "duration": 0.09439,
          "end_time": "2021-03-28T15:06:43.938538",
          "exception": false,
          "start_time": "2021-03-28T15:06:43.844148",
          "status": "completed"
        },
        "tags": [],
        "id": "3dhcTWLc85vG"
      },
      "source": [
        "**visualizations with distplot**"
      ]
    },
    {
      "cell_type": "code",
      "execution_count": null,
      "metadata": {
        "execution": {
          "iopub.execute_input": "2021-03-28T15:06:44.150399Z",
          "iopub.status.busy": "2021-03-28T15:06:44.143547Z",
          "iopub.status.idle": "2021-03-28T15:06:44.575888Z",
          "shell.execute_reply": "2021-03-28T15:06:44.576464Z"
        },
        "papermill": {
          "duration": 0.544184,
          "end_time": "2021-03-28T15:06:44.576670",
          "exception": false,
          "start_time": "2021-03-28T15:06:44.032486",
          "status": "completed"
        },
        "tags": [],
        "id": "G2nEMiqw85vH",
        "outputId": "18e5b60c-4c89-4be3-8c1c-de46781b98c6"
      },
      "outputs": [
        {
          "data": {
            "text/plain": [
              "<AxesSubplot:xlabel='price', ylabel='Count'>"
            ]
          },
          "execution_count": 16,
          "metadata": {},
          "output_type": "execute_result"
        },
        {
          "data": {
            "image/png": "[encoded data removed]",
            "text/plain": [
              "<Figure size 720x432 with 1 Axes>"
            ]
          },
          "metadata": {
            "needs_background": "light"
          },
          "output_type": "display_data"
        }
      ],
      "source": [
        "resizeplot(10,6)\n",
        "sns.histplot(df['price'],kde=True,bins=50)"
      ]
    },
    {
      "cell_type": "markdown",
      "metadata": {
        "papermill": {
          "duration": 0.091488,
          "end_time": "2021-03-28T15:06:44.759290",
          "exception": false,
          "start_time": "2021-03-28T15:06:44.667802",
          "status": "completed"
        },
        "tags": [],
        "id": "eEaO2AYt85vH"
      },
      "source": [
        "**Few correlated features.**"
      ]
    },
    {
      "cell_type": "code",
      "execution_count": null,
      "metadata": {
        "_kg_hide-input": false,
        "execution": {
          "iopub.execute_input": "2021-03-28T15:06:44.949782Z",
          "iopub.status.busy": "2021-03-28T15:06:44.949117Z",
          "iopub.status.idle": "2021-03-28T15:06:48.040082Z",
          "shell.execute_reply": "2021-03-28T15:06:48.039521Z"
        },
        "papermill": {
          "duration": 3.1883,
          "end_time": "2021-03-28T15:06:48.040245",
          "exception": false,
          "start_time": "2021-03-28T15:06:44.851945",
          "status": "completed"
        },
        "tags": [],
        "id": "8JL1lBFv85vI",
        "outputId": "c89962fc-0aec-407e-8b64-6c1a2330d939"
      },
      "outputs": [
        {
          "data": {
            "text/plain": [
              "<AxesSubplot:>"
            ]
          },
          "execution_count": 17,
          "metadata": {},
          "output_type": "execute_result"
        },
        {
          "data": {
            "image/png": "[encoded data removed]",
            "text/plain": [
              "<Figure size 1152x504 with 2 Axes>"
            ]
          },
          "metadata": {
            "needs_background": "light"
          },
          "output_type": "display_data"
        }
      ],
      "source": [
        "resizeplot(16,7)\n",
        "sns.heatmap(df.corr(),annot=True)"
      ]
    },
    {
      "cell_type": "markdown",
      "metadata": {
        "papermill": {
          "duration": 0.106447,
          "end_time": "2021-03-28T15:06:48.250794",
          "exception": false,
          "start_time": "2021-03-28T15:06:48.144347",
          "status": "completed"
        },
        "tags": [],
        "id": "ljPzn-QO85vI"
      },
      "source": [
        "**see how the price changed along the years.**"
      ]
    },
    {
      "cell_type": "code",
      "execution_count": null,
      "metadata": {
        "_kg_hide-input": false,
        "execution": {
          "iopub.execute_input": "2021-03-28T15:06:48.467262Z",
          "iopub.status.busy": "2021-03-28T15:06:48.464907Z",
          "iopub.status.idle": "2021-03-28T15:06:49.448107Z",
          "shell.execute_reply": "2021-03-28T15:06:49.448575Z"
        },
        "papermill": {
          "duration": 1.090571,
          "end_time": "2021-03-28T15:06:49.448772",
          "exception": false,
          "start_time": "2021-03-28T15:06:48.358201",
          "status": "completed"
        },
        "tags": [],
        "id": "rG6JPqYy85vJ",
        "outputId": "bda9985c-b87a-4eef-c1e2-44186b85840f"
      },
      "outputs": [
        {
          "data": {
            "text/plain": [
              "<AxesSubplot:xlabel='yr_built', ylabel='price'>"
            ]
          },
          "execution_count": 18,
          "metadata": {},
          "output_type": "execute_result"
        },
        {
          "data": {
            "image/png": "[encoded data removed]",
            "text/plain": [
              "<Figure size 720x432 with 1 Axes>"
            ]
          },
          "metadata": {
            "needs_background": "light"
          },
          "output_type": "display_data"
        }
      ],
      "source": [
        "resizeplot(10,6)\n",
        "sns.scatterplot(x='yr_built',y='price',data=df,hue='view',palette = 'deep')"
      ]
    },
    {
      "cell_type": "markdown",
      "metadata": {
        "papermill": {
          "duration": 0.103757,
          "end_time": "2021-03-28T15:06:49.657652",
          "exception": false,
          "start_time": "2021-03-28T15:06:49.553895",
          "status": "completed"
        },
        "tags": [],
        "id": "RfykWKCv85vK"
      },
      "source": [
        "**there is a much more residences without a View than the others.**"
      ]
    },
    {
      "cell_type": "code",
      "execution_count": null,
      "metadata": {
        "_kg_hide-input": true,
        "execution": {
          "iopub.execute_input": "2021-03-28T15:06:49.867716Z",
          "iopub.status.busy": "2021-03-28T15:06:49.866989Z",
          "iopub.status.idle": "2021-03-28T15:06:50.034375Z",
          "shell.execute_reply": "2021-03-28T15:06:50.034928Z"
        },
        "papermill": {
          "duration": 0.275487,
          "end_time": "2021-03-28T15:06:50.035125",
          "exception": false,
          "start_time": "2021-03-28T15:06:49.759638",
          "status": "completed"
        },
        "tags": [],
        "id": "WEUvpJMg85vK",
        "outputId": "c602f800-632a-413e-8ec1-29586ef23600"
      },
      "outputs": [
        {
          "data": {
            "text/plain": [
              "<AxesSubplot:xlabel='view', ylabel='count'>"
            ]
          },
          "execution_count": 19,
          "metadata": {},
          "output_type": "execute_result"
        },
        {
          "data": {
            "image/png": "[encoded data removed]",
            "text/plain": [
              "<Figure size 720x360 with 1 Axes>"
            ]
          },
          "metadata": {
            "needs_background": "light"
          },
          "output_type": "display_data"
        }
      ],
      "source": [
        "resizeplot(10,5)\n",
        "sns.countplot(x='view',data=df)"
      ]
    },
    {
      "cell_type": "code",
      "execution_count": null,
      "metadata": {
        "_kg_hide-input": true,
        "execution": {
          "iopub.execute_input": "2021-03-28T15:06:50.458500Z",
          "iopub.status.busy": "2021-03-28T15:06:50.457819Z",
          "iopub.status.idle": "2021-03-28T15:06:50.569000Z",
          "shell.execute_reply": "2021-03-28T15:06:50.569522Z"
        },
        "papermill": {
          "duration": 0.222431,
          "end_time": "2021-03-28T15:06:50.569740",
          "exception": false,
          "start_time": "2021-03-28T15:06:50.347309",
          "status": "completed"
        },
        "tags": [],
        "id": "PozXqU4t85vM",
        "outputId": "46b986e3-e32e-4dcd-9697-614526fd4402"
      },
      "outputs": [
        {
          "data": {
            "text/plain": [
              "<AxesSubplot:xlabel='waterfront', ylabel='count'>"
            ]
          },
          "execution_count": 20,
          "metadata": {},
          "output_type": "execute_result"
        },
        {
          "data": {
            "image/png": "[encoded data removed]",
            "text/plain": [
              "<Figure size 648x360 with 1 Axes>"
            ]
          },
          "metadata": {
            "needs_background": "light"
          },
          "output_type": "display_data"
        }
      ],
      "source": [
        "resizeplot(9,5)\n",
        "sns.countplot(x='waterfront',data=df)"
      ]
    },
    {
      "cell_type": "markdown",
      "metadata": {
        "papermill": {
          "duration": 0.105485,
          "end_time": "2021-03-28T15:06:50.780696",
          "exception": false,
          "start_time": "2021-03-28T15:06:50.675211",
          "status": "completed"
        },
        "tags": [],
        "id": "HyiHizbp85vN"
      },
      "source": [
        "**A linear analysis showing us the increase of the price along the years.**"
      ]
    },
    {
      "cell_type": "code",
      "execution_count": null,
      "metadata": {
        "execution": {
          "iopub.execute_input": "2021-03-28T15:06:50.996778Z",
          "iopub.status.busy": "2021-03-28T15:06:50.995674Z",
          "iopub.status.idle": "2021-03-28T15:06:51.405896Z",
          "shell.execute_reply": "2021-03-28T15:06:51.405018Z"
        },
        "papermill": {
          "duration": 0.520571,
          "end_time": "2021-03-28T15:06:51.406089",
          "exception": false,
          "start_time": "2021-03-28T15:06:50.885518",
          "status": "completed"
        },
        "tags": [],
        "id": "5S__HCtK85vN",
        "outputId": "120672ed-fc73-462f-9dbb-958c9946bc24"
      },
      "outputs": [
        {
          "data": {
            "text/plain": [
              "<AxesSubplot:xlabel='Year', ylabel='price'>"
            ]
          },
          "execution_count": 21,
          "metadata": {},
          "output_type": "execute_result"
        },
        {
          "data": {
            "image/png": "[encoded data removed]",
            "text/plain": [
              "<Figure size 720x432 with 1 Axes>"
            ]
          },
          "metadata": {
            "needs_background": "light"
          },
          "output_type": "display_data"
        }
      ],
      "source": [
        "resizeplot(10,6)\n",
        "sns.lineplot(x='Year',y='price',data=df)"
      ]
    },
    {
      "cell_type": "markdown",
      "metadata": {
        "papermill": {
          "duration": 0.107262,
          "end_time": "2021-03-28T15:06:51.622486",
          "exception": false,
          "start_time": "2021-03-28T15:06:51.515224",
          "status": "completed"
        },
        "tags": [],
        "id": "LS-Av9C485vO"
      },
      "source": [
        "**The higher the grade the higher the price.\n",
        "Note that, the price does not vary much between 2 and 6,\n",
        "probably due to the similarity of the houses.**"
      ]
    },
    {
      "cell_type": "code",
      "execution_count": null,
      "metadata": {
        "execution": {
          "iopub.execute_input": "2021-03-28T15:06:51.844929Z",
          "iopub.status.busy": "2021-03-28T15:06:51.843204Z",
          "iopub.status.idle": "2021-03-28T15:06:52.447758Z",
          "shell.execute_reply": "2021-03-28T15:06:52.447171Z"
        },
        "papermill": {
          "duration": 0.717616,
          "end_time": "2021-03-28T15:06:52.447921",
          "exception": false,
          "start_time": "2021-03-28T15:06:51.730305",
          "status": "completed"
        },
        "tags": [],
        "id": "vl8i7jGI85vP",
        "outputId": "fe5adee3-777f-4ec9-e21c-befd04d5c875"
      },
      "outputs": [
        {
          "data": {
            "text/plain": [
              "<AxesSubplot:xlabel='grade', ylabel='price'>"
            ]
          },
          "execution_count": 22,
          "metadata": {},
          "output_type": "execute_result"
        },
        {
          "data": {
            "image/png": "[encoded data removed]",
            "text/plain": [
              "<Figure size 720x432 with 1 Axes>"
            ]
          },
          "metadata": {
            "needs_background": "light"
          },
          "output_type": "display_data"
        }
      ],
      "source": [
        "resizeplot(10,6)\n",
        "sns.lineplot(x='grade',y='price',data=df,palette='terrain')"
      ]
    },
    {
      "cell_type": "code",
      "execution_count": null,
      "metadata": {
        "execution": {
          "iopub.execute_input": "2021-03-28T15:06:52.900305Z",
          "iopub.status.busy": "2021-03-28T15:06:52.899547Z",
          "iopub.status.idle": "2021-03-28T15:06:53.338209Z",
          "shell.execute_reply": "2021-03-28T15:06:53.337659Z"
        },
        "papermill": {
          "duration": 0.554409,
          "end_time": "2021-03-28T15:06:53.338360",
          "exception": false,
          "start_time": "2021-03-28T15:06:52.783951",
          "status": "completed"
        },
        "tags": [],
        "id": "Ojm1svCo85vQ",
        "outputId": "d5f9a90f-7768-4355-822c-c98a49ea4570"
      },
      "outputs": [
        {
          "data": {
            "text/plain": [
              "<AxesSubplot:xlabel='grade', ylabel='price'>"
            ]
          },
          "execution_count": 23,
          "metadata": {},
          "output_type": "execute_result"
        },
        {
          "data": {
            "image/png": "[encoded data removed]",
            "text/plain": [
              "<Figure size 720x432 with 1 Axes>"
            ]
          },
          "metadata": {
            "needs_background": "light"
          },
          "output_type": "display_data"
        }
      ],
      "source": [
        "resizeplot(10,6)\n",
        "sns.boxplot(x='grade',y='price',data=df,showfliers=False)"
      ]
    },
    {
      "cell_type": "code",
      "execution_count": null,
      "metadata": {
        "execution": {
          "iopub.execute_input": "2021-03-28T15:06:53.578244Z",
          "iopub.status.busy": "2021-03-28T15:06:53.577167Z",
          "iopub.status.idle": "2021-03-28T15:06:53.892343Z",
          "shell.execute_reply": "2021-03-28T15:06:53.891762Z"
        },
        "papermill": {
          "duration": 0.443413,
          "end_time": "2021-03-28T15:06:53.892503",
          "exception": false,
          "start_time": "2021-03-28T15:06:53.449090",
          "status": "completed"
        },
        "tags": [],
        "id": "BB3nGxtc85vR",
        "outputId": "bd8c6194-d49f-4a29-f550-1aad0a5e9484"
      },
      "outputs": [
        {
          "data": {
            "text/plain": [
              "<seaborn.axisgrid.FacetGrid at 0x7fda594f8410>"
            ]
          },
          "execution_count": 24,
          "metadata": {},
          "output_type": "execute_result"
        },
        {
          "data": {
            "text/plain": [
              "<Figure size 720x432 with 0 Axes>"
            ]
          },
          "metadata": {},
          "output_type": "display_data"
        },
        {
          "data": {
            "image/png": "[encoded data removed]",
            "text/plain": [
              "<Figure size 360x360 with 1 Axes>"
            ]
          },
          "metadata": {
            "needs_background": "light"
          },
          "output_type": "display_data"
        }
      ],
      "source": [
        "resizeplot(10,6)\n",
        "sns.relplot(x='sqft_lot',y='price',data=df,palette='terrain')"
      ]
    },
    {
      "cell_type": "markdown",
      "metadata": {
        "papermill": {
          "duration": 0.110761,
          "end_time": "2021-03-28T15:06:54.115692",
          "exception": false,
          "start_time": "2021-03-28T15:06:54.004931",
          "status": "completed"
        },
        "tags": [],
        "id": "djWl0F9G85vR"
      },
      "source": [
        "**Analysis relating the number of rooms with a view to the price of the property.**"
      ]
    },
    {
      "cell_type": "code",
      "execution_count": null,
      "metadata": {
        "_kg_hide-input": false,
        "execution": {
          "iopub.execute_input": "2021-03-28T15:06:54.341503Z",
          "iopub.status.busy": "2021-03-28T15:06:54.340803Z",
          "iopub.status.idle": "2021-03-28T15:06:54.348341Z",
          "shell.execute_reply": "2021-03-28T15:06:54.347405Z"
        },
        "papermill": {
          "duration": 0.123045,
          "end_time": "2021-03-28T15:06:54.348539",
          "exception": false,
          "start_time": "2021-03-28T15:06:54.225494",
          "status": "completed"
        },
        "tags": [],
        "id": "5ynElPZq85vS",
        "outputId": "bfe7b1fb-07e5-4e0f-c098-92241ea0b28d"
      },
      "outputs": [
        {
          "name": "stdout",
          "output_type": "stream",
          "text": [
            "Mean of 1 room with view:  622680.0\n"
          ]
        }
      ],
      "source": [
        "print('Mean of 1 room with view: ',df.loc[(df['waterfront']==1)&(df['bedrooms']==1)]['price'].mean())"
      ]
    },
    {
      "cell_type": "code",
      "execution_count": null,
      "metadata": {
        "_kg_hide-input": false,
        "execution": {
          "iopub.execute_input": "2021-03-28T15:06:54.580508Z",
          "iopub.status.busy": "2021-03-28T15:06:54.578980Z",
          "iopub.status.idle": "2021-03-28T15:06:54.590367Z",
          "shell.execute_reply": "2021-03-28T15:06:54.589761Z"
        },
        "papermill": {
          "duration": 0.126887,
          "end_time": "2021-03-28T15:06:54.590516",
          "exception": false,
          "start_time": "2021-03-28T15:06:54.463629",
          "status": "completed"
        },
        "tags": [],
        "id": "gwVd7M3K85vT",
        "outputId": "7d904ad1-3e43-45fe-fed2-c0900d59c2af"
      },
      "outputs": [
        {
          "name": "stdout",
          "output_type": "stream",
          "text": [
            "Mean of 1 room without view:  309781.1030927835\n"
          ]
        }
      ],
      "source": [
        "print('Mean of 1 room without view: ',df.loc[(df['waterfront']==0)&(df['bedrooms']==1)]['price'].mean())"
      ]
    },
    {
      "cell_type": "code",
      "execution_count": null,
      "metadata": {
        "execution": {
          "iopub.execute_input": "2021-03-28T15:06:54.820395Z",
          "iopub.status.busy": "2021-03-28T15:06:54.819457Z",
          "iopub.status.idle": "2021-03-28T15:06:54.826723Z",
          "shell.execute_reply": "2021-03-28T15:06:54.825487Z"
        },
        "papermill": {
          "duration": 0.125808,
          "end_time": "2021-03-28T15:06:54.826943",
          "exception": false,
          "start_time": "2021-03-28T15:06:54.701135",
          "status": "completed"
        },
        "tags": [],
        "id": "vVb3uPSp85vT",
        "outputId": "dfd29ff6-9eeb-4a84-ce71-4fc23e6084a2"
      },
      "outputs": [
        {
          "name": "stdout",
          "output_type": "stream",
          "text": [
            "Mean of 2 rooms with view:  918567.4838709678\n"
          ]
        }
      ],
      "source": [
        "print('Mean of 2 rooms with view: ',df.loc[(df['waterfront']==1)&(df['bedrooms']==2)]['price'].mean())"
      ]
    },
    {
      "cell_type": "code",
      "execution_count": null,
      "metadata": {
        "execution": {
          "iopub.execute_input": "2021-03-28T15:06:55.058578Z",
          "iopub.status.busy": "2021-03-28T15:06:55.057864Z",
          "iopub.status.idle": "2021-03-28T15:06:55.064320Z",
          "shell.execute_reply": "2021-03-28T15:06:55.064874Z"
        },
        "papermill": {
          "duration": 0.125275,
          "end_time": "2021-03-28T15:06:55.065072",
          "exception": false,
          "start_time": "2021-03-28T15:06:54.939797",
          "status": "completed"
        },
        "tags": [],
        "id": "6vQi_lgJ85vU",
        "outputId": "2cba56b4-73ff-489d-b611-e22c76427137"
      },
      "outputs": [
        {
          "name": "stdout",
          "output_type": "stream",
          "text": [
            "Mean of 2 rooms without view:  395497.62183950166\n"
          ]
        }
      ],
      "source": [
        "print('Mean of 2 rooms without view: ',df.loc[(df['waterfront']==0)&(df['bedrooms']==2)]['price'].mean())"
      ]
    },
    {
      "cell_type": "code",
      "execution_count": null,
      "metadata": {
        "execution": {
          "iopub.execute_input": "2021-03-28T15:06:55.295858Z",
          "iopub.status.busy": "2021-03-28T15:06:55.295215Z",
          "iopub.status.idle": "2021-03-28T15:06:55.305382Z",
          "shell.execute_reply": "2021-03-28T15:06:55.304683Z"
        },
        "papermill": {
          "duration": 0.125578,
          "end_time": "2021-03-28T15:06:55.305529",
          "exception": false,
          "start_time": "2021-03-28T15:06:55.179951",
          "status": "completed"
        },
        "tags": [],
        "id": "Oq5PNNY385vU",
        "outputId": "d62d5ff1-73f7-49ce-d6c4-6267a5ff6642"
      },
      "outputs": [
        {
          "name": "stdout",
          "output_type": "stream",
          "text": [
            "Mean of 3 rooms with view:  1526424.21875\n"
          ]
        }
      ],
      "source": [
        "print('Mean of 3 rooms with view: ',df.loc[(df['waterfront']==1)&(df['bedrooms']==3)]['price'].mean())"
      ]
    },
    {
      "cell_type": "code",
      "execution_count": null,
      "metadata": {
        "execution": {
          "iopub.execute_input": "2021-03-28T15:06:55.540638Z",
          "iopub.status.busy": "2021-03-28T15:06:55.539799Z",
          "iopub.status.idle": "2021-03-28T15:06:55.546609Z",
          "shell.execute_reply": "2021-03-28T15:06:55.546042Z"
        },
        "papermill": {
          "duration": 0.125654,
          "end_time": "2021-03-28T15:06:55.546753",
          "exception": false,
          "start_time": "2021-03-28T15:06:55.421099",
          "status": "completed"
        },
        "tags": [],
        "id": "9UEiSAJS85vV",
        "outputId": "a8f7a1ed-38ac-436a-a0c8-2268f4690dea"
      },
      "outputs": [
        {
          "name": "stdout",
          "output_type": "stream",
          "text": [
            "Mean of 3 rooms without view:  459259.17501793214\n"
          ]
        }
      ],
      "source": [
        "print('Mean of 3 rooms without view: ',df.loc[(df['waterfront']==0)&(df['bedrooms']==3)]['price'].mean())"
      ]
    },
    {
      "cell_type": "code",
      "execution_count": null,
      "metadata": {
        "execution": {
          "iopub.execute_input": "2021-03-28T15:06:55.779071Z",
          "iopub.status.busy": "2021-03-28T15:06:55.778377Z",
          "iopub.status.idle": "2021-03-28T15:06:55.784428Z",
          "shell.execute_reply": "2021-03-28T15:06:55.784894Z"
        },
        "papermill": {
          "duration": 0.125299,
          "end_time": "2021-03-28T15:06:55.785094",
          "exception": false,
          "start_time": "2021-03-28T15:06:55.659795",
          "status": "completed"
        },
        "tags": [],
        "id": "KGiS4gVK85vV",
        "outputId": "429db4df-073a-43ad-d71f-9736ecf4cb7e"
      },
      "outputs": [
        {
          "name": "stdout",
          "output_type": "stream",
          "text": [
            "Mean of 4 rooms with view:  1928485.0\n"
          ]
        }
      ],
      "source": [
        "print('Mean of 4 rooms with view: ',df.loc[(df['waterfront']==1)&(df['bedrooms']==4)]['price'].mean())"
      ]
    },
    {
      "cell_type": "code",
      "execution_count": null,
      "metadata": {
        "execution": {
          "iopub.execute_input": "2021-03-28T15:06:56.024519Z",
          "iopub.status.busy": "2021-03-28T15:06:56.021957Z",
          "iopub.status.idle": "2021-03-28T15:06:56.028201Z",
          "shell.execute_reply": "2021-03-28T15:06:56.028850Z"
        },
        "papermill": {
          "duration": 0.128352,
          "end_time": "2021-03-28T15:06:56.029107",
          "exception": false,
          "start_time": "2021-03-28T15:06:55.900755",
          "status": "completed"
        },
        "tags": [],
        "id": "3FdUPqF_85vW",
        "outputId": "1943f014-f9d3-42a8-ebfc-1b29d9a626c7"
      },
      "outputs": [
        {
          "name": "stdout",
          "output_type": "stream",
          "text": [
            "Mean of 4 rooms without view:  627880.810992545\n"
          ]
        }
      ],
      "source": [
        "print('Mean of 4 rooms without view: ',df.loc[(df['waterfront']==0)&(df['bedrooms']==4)]['price'].mean())"
      ]
    },
    {
      "cell_type": "markdown",
      "metadata": {
        "papermill": {
          "duration": 0.112865,
          "end_time": "2021-03-28T15:06:56.258274",
          "exception": false,
          "start_time": "2021-03-28T15:06:56.145409",
          "status": "completed"
        },
        "tags": [],
        "id": "jhe3Ss8m85vW"
      },
      "source": [
        "**Relating the number of bathrooms with the price.**"
      ]
    },
    {
      "cell_type": "code",
      "execution_count": null,
      "metadata": {
        "execution": {
          "iopub.execute_input": "2021-03-28T15:06:56.496352Z",
          "iopub.status.busy": "2021-03-28T15:06:56.495671Z",
          "iopub.status.idle": "2021-03-28T15:06:56.797541Z",
          "shell.execute_reply": "2021-03-28T15:06:56.796923Z"
        },
        "papermill": {
          "duration": 0.424281,
          "end_time": "2021-03-28T15:06:56.797691",
          "exception": false,
          "start_time": "2021-03-28T15:06:56.373410",
          "status": "completed"
        },
        "tags": [],
        "id": "m0V8PcRC85vX",
        "outputId": "6d9f54b2-96ef-494e-d9e2-053fd851a405"
      },
      "outputs": [
        {
          "data": {
            "text/plain": [
              "<AxesSubplot:xlabel='bathrooms', ylabel='price'>"
            ]
          },
          "execution_count": 33,
          "metadata": {},
          "output_type": "execute_result"
        },
        {
          "data": {
            "image/png": "[encoded data removed]",
            "text/plain": [
              "<Figure size 720x432 with 1 Axes>"
            ]
          },
          "metadata": {
            "needs_background": "light"
          },
          "output_type": "display_data"
        }
      ],
      "source": [
        "resizeplot(10,6)\n",
        "sns.boxplot(x='bathrooms',y='price',data=df)"
      ]
    },
    {
      "cell_type": "markdown",
      "metadata": {
        "papermill": {
          "duration": 0.114649,
          "end_time": "2021-03-28T15:06:57.030586",
          "exception": false,
          "start_time": "2021-03-28T15:06:56.915937",
          "status": "completed"
        },
        "tags": [],
        "id": "bvJoJ_TW85vX"
      },
      "source": [
        "**Eesidences have more houses with 3 and 4 bedrooms than the others, which leads us to realize that there are several other attributes that value the house and not just bedrooms and bathrooms.**"
      ]
    },
    {
      "cell_type": "code",
      "execution_count": null,
      "metadata": {
        "execution": {
          "iopub.execute_input": "2021-03-28T15:06:57.270931Z",
          "iopub.status.busy": "2021-03-28T15:06:57.270157Z",
          "iopub.status.idle": "2021-03-28T15:06:57.481947Z",
          "shell.execute_reply": "2021-03-28T15:06:57.481245Z"
        },
        "papermill": {
          "duration": 0.333672,
          "end_time": "2021-03-28T15:06:57.482209",
          "exception": false,
          "start_time": "2021-03-28T15:06:57.148537",
          "status": "completed"
        },
        "tags": [],
        "id": "6JW8pWKc85vY",
        "outputId": "fc17366b-3f29-42ec-e24a-7df6993cbdd1"
      },
      "outputs": [
        {
          "data": {
            "text/plain": [
              "<AxesSubplot:xlabel='bedrooms', ylabel='count'>"
            ]
          },
          "execution_count": 34,
          "metadata": {},
          "output_type": "execute_result"
        },
        {
          "data": {
            "image/png": "[encoded data removed]",
            "text/plain": [
              "<Figure size 720x432 with 1 Axes>"
            ]
          },
          "metadata": {
            "needs_background": "light"
          },
          "output_type": "display_data"
        }
      ],
      "source": [
        "resizeplot(10,6)\n",
        "sns.countplot(x='bedrooms',data=df)"
      ]
    },
    {
      "cell_type": "markdown",
      "metadata": {
        "papermill": {
          "duration": 0.116599,
          "end_time": "2021-03-28T15:06:57.714868",
          "exception": false,
          "start_time": "2021-03-28T15:06:57.598269",
          "status": "completed"
        },
        "tags": [],
        "id": "ni8OGVfc85vZ"
      },
      "source": [
        "# Let's start creating our models"
      ]
    },
    {
      "cell_type": "code",
      "execution_count": null,
      "metadata": {
        "execution": {
          "iopub.execute_input": "2021-03-28T15:06:57.971152Z",
          "iopub.status.busy": "2021-03-28T15:06:57.959519Z",
          "iopub.status.idle": "2021-03-28T15:06:57.976087Z",
          "shell.execute_reply": "2021-03-28T15:06:57.975154Z"
        },
        "papermill": {
          "duration": 0.139675,
          "end_time": "2021-03-28T15:06:57.976286",
          "exception": false,
          "start_time": "2021-03-28T15:06:57.836611",
          "status": "completed"
        },
        "tags": [],
        "id": "FwqsWxPZ85vZ",
        "outputId": "cc8c9e42-e3c9-4955-faa0-c128475ae6f0"
      },
      "outputs": [
        {
          "name": "stdout",
          "output_type": "stream",
          "text": [
            "<class 'pandas.core.frame.DataFrame'>\n",
            "Int64Index: 21611 entries, 0 to 21612\n",
            "Data columns (total 21 columns):\n",
            " #   Column         Non-Null Count  Dtype  \n",
            "---  ------         --------------  -----  \n",
            " 0   price          21611 non-null  float64\n",
            " 1   bedrooms       21611 non-null  int64  \n",
            " 2   bathrooms      21611 non-null  float64\n",
            " 3   sqft_living    21611 non-null  int64  \n",
            " 4   sqft_lot       21611 non-null  int64  \n",
            " 5   floors         21611 non-null  float64\n",
            " 6   waterfront     21611 non-null  int64  \n",
            " 7   view           21611 non-null  int64  \n",
            " 8   condition      21611 non-null  int64  \n",
            " 9   grade          21611 non-null  int64  \n",
            " 10  sqft_above     21611 non-null  float64\n",
            " 11  sqft_basement  21611 non-null  int64  \n",
            " 12  yr_built       21611 non-null  int64  \n",
            " 13  yr_renovated   21611 non-null  int64  \n",
            " 14  zipcode        21611 non-null  int64  \n",
            " 15  lat            21611 non-null  float64\n",
            " 16  long           21611 non-null  float64\n",
            " 17  sqft_living15  21611 non-null  int64  \n",
            " 18  sqft_lot15     21611 non-null  int64  \n",
            " 19  Month          21611 non-null  int64  \n",
            " 20  Year           21611 non-null  int64  \n",
            "dtypes: float64(6), int64(15)\n",
            "memory usage: 4.1 MB\n"
          ]
        }
      ],
      "source": [
        "df.info()"
      ]
    },
    {
      "cell_type": "code",
      "execution_count": null,
      "metadata": {
        "execution": {
          "iopub.execute_input": "2021-03-28T15:06:58.226917Z",
          "iopub.status.busy": "2021-03-28T15:06:58.226268Z",
          "iopub.status.idle": "2021-03-28T15:06:58.233714Z",
          "shell.execute_reply": "2021-03-28T15:06:58.233008Z"
        },
        "papermill": {
          "duration": 0.134362,
          "end_time": "2021-03-28T15:06:58.233855",
          "exception": false,
          "start_time": "2021-03-28T15:06:58.099493",
          "status": "completed"
        },
        "tags": [],
        "id": "aHSrVZyc85vZ"
      },
      "outputs": [],
      "source": [
        "X = df[['bedrooms','bedrooms','bathrooms','sqft_living','sqft_lot','floors','waterfront','view','condition',\n",
        "       'grade','sqft_above','sqft_basement','sqft_living15','sqft_lot15']].values\n",
        "y = df['price'].values"
      ]
    },
    {
      "cell_type": "code",
      "execution_count": null,
      "metadata": {
        "execution": {
          "iopub.execute_input": "2021-03-28T15:06:58.478798Z",
          "iopub.status.busy": "2021-03-28T15:06:58.477262Z",
          "iopub.status.idle": "2021-03-28T15:06:58.488130Z",
          "shell.execute_reply": "2021-03-28T15:06:58.487419Z"
        },
        "papermill": {
          "duration": 0.134311,
          "end_time": "2021-03-28T15:06:58.488283",
          "exception": false,
          "start_time": "2021-03-28T15:06:58.353972",
          "status": "completed"
        },
        "tags": [],
        "id": "ZFdCRSZt85va"
      },
      "outputs": [],
      "source": [
        "X_train, X_test, y_train, y_test = train_test_split(X, y, test_size=0.3, random_state=50)"
      ]
    },
    {
      "cell_type": "markdown",
      "metadata": {
        "papermill": {
          "duration": 0.118545,
          "end_time": "2021-03-28T15:06:58.733063",
          "exception": false,
          "start_time": "2021-03-28T15:06:58.614518",
          "status": "completed"
        },
        "tags": [],
        "id": "Tde-nfNv85va"
      },
      "source": [
        "**Normalize the data.**"
      ]
    },
    {
      "cell_type": "code",
      "execution_count": null,
      "metadata": {
        "execution": {
          "iopub.execute_input": "2021-03-28T15:06:58.976529Z",
          "iopub.status.busy": "2021-03-28T15:06:58.975580Z",
          "iopub.status.idle": "2021-03-28T15:06:58.980616Z",
          "shell.execute_reply": "2021-03-28T15:06:58.979375Z"
        },
        "papermill": {
          "duration": 0.129506,
          "end_time": "2021-03-28T15:06:58.980796",
          "exception": false,
          "start_time": "2021-03-28T15:06:58.851290",
          "status": "completed"
        },
        "tags": [],
        "id": "f3ZzPvqy85vb"
      },
      "outputs": [],
      "source": [
        "std = StandardScaler()"
      ]
    },
    {
      "cell_type": "code",
      "execution_count": null,
      "metadata": {
        "execution": {
          "iopub.execute_input": "2021-03-28T15:06:59.229904Z",
          "iopub.status.busy": "2021-03-28T15:06:59.229236Z",
          "iopub.status.idle": "2021-03-28T15:06:59.242907Z",
          "shell.execute_reply": "2021-03-28T15:06:59.242210Z"
        },
        "papermill": {
          "duration": 0.141289,
          "end_time": "2021-03-28T15:06:59.243119",
          "exception": false,
          "start_time": "2021-03-28T15:06:59.101830",
          "status": "completed"
        },
        "tags": [],
        "id": "1fN_WwGX85vb"
      },
      "outputs": [],
      "source": [
        "X = std.fit_transform(X)"
      ]
    },
    {
      "cell_type": "markdown",
      "metadata": {
        "papermill": {
          "duration": 0.119362,
          "end_time": "2021-03-28T15:06:59.484775",
          "exception": false,
          "start_time": "2021-03-28T15:06:59.365413",
          "status": "completed"
        },
        "tags": [],
        "id": "d8jFdX2585vc"
      },
      "source": [
        "**RANDOM FOREST REGRESSOR**"
      ]
    },
    {
      "cell_type": "code",
      "execution_count": null,
      "metadata": {
        "execution": {
          "iopub.execute_input": "2021-03-28T15:06:59.736606Z",
          "iopub.status.busy": "2021-03-28T15:06:59.735901Z",
          "iopub.status.idle": "2021-03-28T15:06:59.739167Z",
          "shell.execute_reply": "2021-03-28T15:06:59.738524Z"
        },
        "papermill": {
          "duration": 0.131404,
          "end_time": "2021-03-28T15:06:59.739311",
          "exception": false,
          "start_time": "2021-03-28T15:06:59.607907",
          "status": "completed"
        },
        "tags": [],
        "id": "bYIoYhUc85vc"
      },
      "outputs": [],
      "source": [
        "rfr = RandomForestRegressor(n_estimators=200)"
      ]
    },
    {
      "cell_type": "code",
      "execution_count": null,
      "metadata": {
        "execution": {
          "iopub.execute_input": "2021-03-28T15:06:59.984804Z",
          "iopub.status.busy": "2021-03-28T15:06:59.984142Z",
          "iopub.status.idle": "2021-03-28T15:07:18.619706Z",
          "shell.execute_reply": "2021-03-28T15:07:18.619016Z"
        },
        "papermill": {
          "duration": 18.75963,
          "end_time": "2021-03-28T15:07:18.619852",
          "exception": false,
          "start_time": "2021-03-28T15:06:59.860222",
          "status": "completed"
        },
        "tags": [],
        "id": "oXwOIkAf85vc",
        "outputId": "d880636c-ba5e-4928-b9cf-8b3c65713938"
      },
      "outputs": [
        {
          "data": {
            "text/plain": [
              "RandomForestRegressor(n_estimators=200)"
            ]
          },
          "execution_count": 41,
          "metadata": {},
          "output_type": "execute_result"
        }
      ],
      "source": [
        "rfr.fit(X_train,y_train)"
      ]
    },
    {
      "cell_type": "code",
      "execution_count": null,
      "metadata": {
        "execution": {
          "iopub.execute_input": "2021-03-28T15:07:18.875622Z",
          "iopub.status.busy": "2021-03-28T15:07:18.874732Z",
          "iopub.status.idle": "2021-03-28T15:07:19.722491Z",
          "shell.execute_reply": "2021-03-28T15:07:19.723005Z"
        },
        "papermill": {
          "duration": 0.978041,
          "end_time": "2021-03-28T15:07:19.723210",
          "exception": false,
          "start_time": "2021-03-28T15:07:18.745169",
          "status": "completed"
        },
        "tags": [],
        "id": "99Xns5jj85vd"
      },
      "outputs": [],
      "source": [
        "score_rfr = rfr.score(X_train,y_train)"
      ]
    },
    {
      "cell_type": "code",
      "execution_count": null,
      "metadata": {
        "execution": {
          "iopub.execute_input": "2021-03-28T15:07:19.967910Z",
          "iopub.status.busy": "2021-03-28T15:07:19.967214Z",
          "iopub.status.idle": "2021-03-28T15:07:20.376738Z",
          "shell.execute_reply": "2021-03-28T15:07:20.376044Z"
        },
        "papermill": {
          "duration": 0.534514,
          "end_time": "2021-03-28T15:07:20.376886",
          "exception": false,
          "start_time": "2021-03-28T15:07:19.842372",
          "status": "completed"
        },
        "tags": [],
        "id": "tzksFX_485vd"
      },
      "outputs": [],
      "source": [
        "prev_rfr = rfr.predict(X_test)"
      ]
    },
    {
      "cell_type": "code",
      "execution_count": null,
      "metadata": {
        "execution": {
          "iopub.execute_input": "2021-03-28T15:07:20.631573Z",
          "iopub.status.busy": "2021-03-28T15:07:20.630840Z",
          "iopub.status.idle": "2021-03-28T15:07:20.634835Z",
          "shell.execute_reply": "2021-03-28T15:07:20.634285Z"
        },
        "papermill": {
          "duration": 0.132015,
          "end_time": "2021-03-28T15:07:20.634992",
          "exception": false,
          "start_time": "2021-03-28T15:07:20.502977",
          "status": "completed"
        },
        "tags": [],
        "id": "sftyPJ6e85ve"
      },
      "outputs": [],
      "source": [
        "mae_rfr = mean_absolute_error(y_test,prev_rfr)"
      ]
    },
    {
      "cell_type": "code",
      "execution_count": null,
      "metadata": {
        "execution": {
          "iopub.execute_input": "2021-03-28T15:07:20.888138Z",
          "iopub.status.busy": "2021-03-28T15:07:20.887423Z",
          "iopub.status.idle": "2021-03-28T15:07:20.891264Z",
          "shell.execute_reply": "2021-03-28T15:07:20.890569Z"
        },
        "papermill": {
          "duration": 0.132888,
          "end_time": "2021-03-28T15:07:20.891414",
          "exception": false,
          "start_time": "2021-03-28T15:07:20.758526",
          "status": "completed"
        },
        "tags": [],
        "id": "PFzqGmqy85ve"
      },
      "outputs": [],
      "source": [
        "mse_rfr = mean_squared_error(y_test,prev_rfr)"
      ]
    },
    {
      "cell_type": "code",
      "execution_count": null,
      "metadata": {
        "execution": {
          "iopub.execute_input": "2021-03-28T15:07:21.140416Z",
          "iopub.status.busy": "2021-03-28T15:07:21.139660Z",
          "iopub.status.idle": "2021-03-28T15:07:21.143159Z",
          "shell.execute_reply": "2021-03-28T15:07:21.142527Z"
        },
        "papermill": {
          "duration": 0.131262,
          "end_time": "2021-03-28T15:07:21.143310",
          "exception": false,
          "start_time": "2021-03-28T15:07:21.012048",
          "status": "completed"
        },
        "tags": [],
        "id": "PVoSg4MZ85vf"
      },
      "outputs": [],
      "source": [
        "rmse_rfr = np.sqrt(mean_squared_error(y_test,prev_rfr))"
      ]
    },
    {
      "cell_type": "code",
      "execution_count": null,
      "metadata": {
        "execution": {
          "iopub.execute_input": "2021-03-28T15:07:21.396415Z",
          "iopub.status.busy": "2021-03-28T15:07:21.395357Z",
          "iopub.status.idle": "2021-03-28T15:07:21.399364Z",
          "shell.execute_reply": "2021-03-28T15:07:21.398698Z"
        },
        "papermill": {
          "duration": 0.132556,
          "end_time": "2021-03-28T15:07:21.399513",
          "exception": false,
          "start_time": "2021-03-28T15:07:21.266957",
          "status": "completed"
        },
        "tags": [],
        "id": "i9frBjo485vf",
        "outputId": "ca91875c-85eb-42f3-b08b-8778574ca5b0"
      },
      "outputs": [
        {
          "name": "stdout",
          "output_type": "stream",
          "text": [
            "Mae:  124231.36088374397\n",
            "Mse:  37912647022.48658\n",
            "Rmse:  194711.70232548064\n"
          ]
        }
      ],
      "source": [
        "print('Mae: ',mae_rfr)\n",
        "print('Mse: ',mse_rfr)\n",
        "print('Rmse: ',rmse_rfr)"
      ]
    },
    {
      "cell_type": "code",
      "execution_count": null,
      "metadata": {
        "execution": {
          "iopub.execute_input": "2021-03-28T15:07:21.650206Z",
          "iopub.status.busy": "2021-03-28T15:07:21.649509Z",
          "iopub.status.idle": "2021-03-28T15:07:21.652011Z",
          "shell.execute_reply": "2021-03-28T15:07:21.652481Z"
        },
        "papermill": {
          "duration": 0.130568,
          "end_time": "2021-03-28T15:07:21.652661",
          "exception": false,
          "start_time": "2021-03-28T15:07:21.522093",
          "status": "completed"
        },
        "tags": [],
        "id": "IN1Dgndd85vg",
        "outputId": "71135068-cf38-4f40-a231-785685049566"
      },
      "outputs": [
        {
          "name": "stdout",
          "output_type": "stream",
          "text": [
            "0.9584837732427094\n"
          ]
        }
      ],
      "source": [
        "print(score_rfr)"
      ]
    },
    {
      "cell_type": "code",
      "execution_count": null,
      "metadata": {
        "execution": {
          "iopub.execute_input": "2021-03-28T15:07:21.913238Z",
          "iopub.status.busy": "2021-03-28T15:07:21.912070Z",
          "iopub.status.idle": "2021-03-28T15:07:21.929201Z",
          "shell.execute_reply": "2021-03-28T15:07:21.928518Z"
        },
        "papermill": {
          "duration": 0.152371,
          "end_time": "2021-03-28T15:07:21.929352",
          "exception": false,
          "start_time": "2021-03-28T15:07:21.776981",
          "status": "completed"
        },
        "tags": [],
        "id": "5andDW7B85vg",
        "outputId": "a8d24801-0efd-4977-e1c4-f6e02fc361ac"
      },
      "outputs": [
        {
          "data": {
            "text/html": [
              "<div>\n",
              "<style scoped>\n",
              "    .dataframe tbody tr th:only-of-type {\n",
              "        vertical-align: middle;\n",
              "    }\n",
              "\n",
              "    .dataframe tbody tr th {\n",
              "        vertical-align: top;\n",
              "    }\n",
              "\n",
              "    .dataframe thead th {\n",
              "        text-align: right;\n",
              "    }\n",
              "</style>\n",
              "<table border=\"1\" class=\"dataframe\">\n",
              "  <thead>\n",
              "    <tr style=\"text-align: right;\">\n",
              "      <th></th>\n",
              "      <th>Price</th>\n",
              "      <th>Predictions</th>\n",
              "      <th>Error</th>\n",
              "    </tr>\n",
              "  </thead>\n",
              "  <tbody>\n",
              "    <tr>\n",
              "      <th>0</th>\n",
              "      <td>221900.0</td>\n",
              "      <td>335180.230</td>\n",
              "      <td>-113280.230</td>\n",
              "    </tr>\n",
              "    <tr>\n",
              "      <th>1</th>\n",
              "      <td>538000.0</td>\n",
              "      <td>636826.300</td>\n",
              "      <td>-98826.300</td>\n",
              "    </tr>\n",
              "    <tr>\n",
              "      <th>2</th>\n",
              "      <td>180000.0</td>\n",
              "      <td>318844.030</td>\n",
              "      <td>-138844.030</td>\n",
              "    </tr>\n",
              "    <tr>\n",
              "      <th>3</th>\n",
              "      <td>604000.0</td>\n",
              "      <td>456245.430</td>\n",
              "      <td>147754.570</td>\n",
              "    </tr>\n",
              "    <tr>\n",
              "      <th>4</th>\n",
              "      <td>510000.0</td>\n",
              "      <td>667843.695</td>\n",
              "      <td>-157843.695</td>\n",
              "    </tr>\n",
              "  </tbody>\n",
              "</table>\n",
              "</div>"
            ],
            "text/plain": [
              "      Price  Predictions       Error\n",
              "0  221900.0   335180.230 -113280.230\n",
              "1  538000.0   636826.300  -98826.300\n",
              "2  180000.0   318844.030 -138844.030\n",
              "3  604000.0   456245.430  147754.570\n",
              "4  510000.0   667843.695 -157843.695"
            ]
          },
          "execution_count": 49,
          "metadata": {},
          "output_type": "execute_result"
        }
      ],
      "source": [
        "preco_rfr = df['price']\n",
        "predict_rfr = pd.Series(prev_rfr)\n",
        "error_rfr = preco_rfr-predict_rfr\n",
        "data_rfr = {'Price':preco_rfr,'Predictions':predict_rfr,'Error':error_rfr}\n",
        "data_prev_rfr = pd.DataFrame(data_rfr)\n",
        "data_prev_rfr.head()"
      ]
    },
    {
      "cell_type": "code",
      "execution_count": null,
      "metadata": {
        "execution": {
          "iopub.execute_input": "2021-03-28T15:07:22.205378Z",
          "iopub.status.busy": "2021-03-28T15:07:22.199977Z",
          "iopub.status.idle": "2021-03-28T15:07:22.385968Z",
          "shell.execute_reply": "2021-03-28T15:07:22.386515Z"
        },
        "papermill": {
          "duration": 0.331828,
          "end_time": "2021-03-28T15:07:22.386714",
          "exception": false,
          "start_time": "2021-03-28T15:07:22.054886",
          "status": "completed"
        },
        "tags": [],
        "id": "GLOmBLc785vh",
        "outputId": "aa65479e-3f10-4521-e58e-02bd17254b66"
      },
      "outputs": [
        {
          "data": {
            "text/plain": [
              "[<matplotlib.lines.Line2D at 0x7fda4961a1d0>]"
            ]
          },
          "execution_count": 50,
          "metadata": {},
          "output_type": "execute_result"
        },
        {
          "data": {
            "image/png": "[encoded data removed]",
            "text/plain": [
              "<Figure size 720x432 with 1 Axes>"
            ]
          },
          "metadata": {
            "needs_background": "light"
          },
          "output_type": "display_data"
        }
      ],
      "source": [
        "resizeplot(10,6)\n",
        "plt.scatter(y_test,prev_rfr)\n",
        "plt.plot(y_test,y_test,color='red')"
      ]
    },
    {
      "cell_type": "markdown",
      "metadata": {
        "papermill": {
          "duration": 0.121119,
          "end_time": "2021-03-28T15:07:22.634618",
          "exception": false,
          "start_time": "2021-03-28T15:07:22.513499",
          "status": "completed"
        },
        "tags": [],
        "id": "-SgzxuKP85vh"
      },
      "source": [
        "**LINEAR REGRESSION**"
      ]
    },
    {
      "cell_type": "code",
      "execution_count": null,
      "metadata": {
        "execution": {
          "iopub.execute_input": "2021-03-28T15:07:22.884204Z",
          "iopub.status.busy": "2021-03-28T15:07:22.883525Z",
          "iopub.status.idle": "2021-03-28T15:07:22.886047Z",
          "shell.execute_reply": "2021-03-28T15:07:22.886607Z"
        },
        "papermill": {
          "duration": 0.130692,
          "end_time": "2021-03-28T15:07:22.886795",
          "exception": false,
          "start_time": "2021-03-28T15:07:22.756103",
          "status": "completed"
        },
        "tags": [],
        "id": "PGL5tcr685vi"
      },
      "outputs": [],
      "source": [
        "lr = LinearRegression()"
      ]
    },
    {
      "cell_type": "code",
      "execution_count": null,
      "metadata": {
        "execution": {
          "iopub.execute_input": "2021-03-28T15:07:23.139349Z",
          "iopub.status.busy": "2021-03-28T15:07:23.138347Z",
          "iopub.status.idle": "2021-03-28T15:07:23.165454Z",
          "shell.execute_reply": "2021-03-28T15:07:23.166506Z"
        },
        "papermill": {
          "duration": 0.155267,
          "end_time": "2021-03-28T15:07:23.166804",
          "exception": false,
          "start_time": "2021-03-28T15:07:23.011537",
          "status": "completed"
        },
        "tags": [],
        "id": "EZieanFr85vi",
        "outputId": "cd4e7120-71ce-405d-8a13-7f11e0d2727a"
      },
      "outputs": [
        {
          "data": {
            "text/plain": [
              "LinearRegression()"
            ]
          },
          "execution_count": 52,
          "metadata": {},
          "output_type": "execute_result"
        }
      ],
      "source": [
        "lr.fit(X_train,y_train)"
      ]
    },
    {
      "cell_type": "code",
      "execution_count": null,
      "metadata": {
        "execution": {
          "iopub.execute_input": "2021-03-28T15:07:23.465773Z",
          "iopub.status.busy": "2021-03-28T15:07:23.464700Z",
          "iopub.status.idle": "2021-03-28T15:07:23.468441Z",
          "shell.execute_reply": "2021-03-28T15:07:23.467582Z"
        },
        "papermill": {
          "duration": 0.132523,
          "end_time": "2021-03-28T15:07:23.468658",
          "exception": false,
          "start_time": "2021-03-28T15:07:23.336135",
          "status": "completed"
        },
        "tags": [],
        "id": "XL1Y3Rle85vj"
      },
      "outputs": [],
      "source": [
        "pred_lr = lr.predict(X_test)"
      ]
    },
    {
      "cell_type": "code",
      "execution_count": null,
      "metadata": {
        "execution": {
          "iopub.execute_input": "2021-03-28T15:07:23.718612Z",
          "iopub.status.busy": "2021-03-28T15:07:23.717866Z",
          "iopub.status.idle": "2021-03-28T15:07:23.724241Z",
          "shell.execute_reply": "2021-03-28T15:07:23.723543Z"
        },
        "papermill": {
          "duration": 0.131567,
          "end_time": "2021-03-28T15:07:23.724390",
          "exception": false,
          "start_time": "2021-03-28T15:07:23.592823",
          "status": "completed"
        },
        "tags": [],
        "id": "OhmW_NfZ85vj"
      },
      "outputs": [],
      "source": [
        "score_lr = lr.score(X_train,y_train)"
      ]
    },
    {
      "cell_type": "code",
      "execution_count": null,
      "metadata": {
        "execution": {
          "iopub.execute_input": "2021-03-28T15:07:23.978607Z",
          "iopub.status.busy": "2021-03-28T15:07:23.977884Z",
          "iopub.status.idle": "2021-03-28T15:07:23.984950Z",
          "shell.execute_reply": "2021-03-28T15:07:23.984179Z"
        },
        "papermill": {
          "duration": 0.134882,
          "end_time": "2021-03-28T15:07:23.985127",
          "exception": false,
          "start_time": "2021-03-28T15:07:23.850245",
          "status": "completed"
        },
        "tags": [],
        "id": "T-z8wqrE85vj",
        "outputId": "472b5192-acea-4860-8274-cf9ae140799d"
      },
      "outputs": [
        {
          "name": "stdout",
          "output_type": "stream",
          "text": [
            "0.6065075278674394\n"
          ]
        }
      ],
      "source": [
        "print(score_lr)"
      ]
    },
    {
      "cell_type": "code",
      "execution_count": null,
      "metadata": {
        "execution": {
          "iopub.execute_input": "2021-03-28T15:07:24.239704Z",
          "iopub.status.busy": "2021-03-28T15:07:24.238660Z",
          "iopub.status.idle": "2021-03-28T15:07:24.242813Z",
          "shell.execute_reply": "2021-03-28T15:07:24.243289Z"
        },
        "papermill": {
          "duration": 0.134149,
          "end_time": "2021-03-28T15:07:24.243472",
          "exception": false,
          "start_time": "2021-03-28T15:07:24.109323",
          "status": "completed"
        },
        "tags": [],
        "id": "wFYgPP_X85vk",
        "outputId": "8b2c5662-a8d9-4f9a-f3d3-60731bba5157"
      },
      "outputs": [
        {
          "data": {
            "text/plain": [
              "-20757.990124204305"
            ]
          },
          "execution_count": 56,
          "metadata": {},
          "output_type": "execute_result"
        }
      ],
      "source": [
        "lr.coef_[0]"
      ]
    },
    {
      "cell_type": "code",
      "execution_count": null,
      "metadata": {
        "execution": {
          "iopub.execute_input": "2021-03-28T15:07:24.529429Z",
          "iopub.status.busy": "2021-03-28T15:07:24.528469Z",
          "iopub.status.idle": "2021-03-28T15:07:24.533582Z",
          "shell.execute_reply": "2021-03-28T15:07:24.532805Z"
        },
        "papermill": {
          "duration": 0.143465,
          "end_time": "2021-03-28T15:07:24.533757",
          "exception": false,
          "start_time": "2021-03-28T15:07:24.390292",
          "status": "completed"
        },
        "tags": [],
        "id": "Jt9f63p885vk",
        "outputId": "8fceafa0-bfbd-4736-f5d6-457e820e08d1"
      },
      "outputs": [
        {
          "data": {
            "text/plain": [
              "-678182.8989128264"
            ]
          },
          "execution_count": 57,
          "metadata": {},
          "output_type": "execute_result"
        }
      ],
      "source": [
        "lr.intercept_"
      ]
    },
    {
      "cell_type": "code",
      "execution_count": null,
      "metadata": {
        "execution": {
          "iopub.execute_input": "2021-03-28T15:07:24.788602Z",
          "iopub.status.busy": "2021-03-28T15:07:24.787606Z",
          "iopub.status.idle": "2021-03-28T15:07:24.790775Z",
          "shell.execute_reply": "2021-03-28T15:07:24.790284Z"
        },
        "papermill": {
          "duration": 0.132174,
          "end_time": "2021-03-28T15:07:24.790919",
          "exception": false,
          "start_time": "2021-03-28T15:07:24.658745",
          "status": "completed"
        },
        "tags": [],
        "id": "VOgxI23P85vl"
      },
      "outputs": [],
      "source": [
        "mae_lr = mean_absolute_error(y_test,pred_lr)\n",
        "mse_lr = mean_squared_error(y_test,pred_lr)\n",
        "rmse_lr = np.sqrt(mse_lr)"
      ]
    },
    {
      "cell_type": "code",
      "execution_count": null,
      "metadata": {
        "execution": {
          "iopub.execute_input": "2021-03-28T15:07:25.045173Z",
          "iopub.status.busy": "2021-03-28T15:07:25.044307Z",
          "iopub.status.idle": "2021-03-28T15:07:25.049077Z",
          "shell.execute_reply": "2021-03-28T15:07:25.048505Z"
        },
        "papermill": {
          "duration": 0.134854,
          "end_time": "2021-03-28T15:07:25.049222",
          "exception": false,
          "start_time": "2021-03-28T15:07:24.914368",
          "status": "completed"
        },
        "tags": [],
        "id": "SsFqFcQQ85vl",
        "outputId": "ccda7079-ed53-4f28-fd66-f5260e70a0c1"
      },
      "outputs": [
        {
          "name": "stdout",
          "output_type": "stream",
          "text": [
            "Mae_lr:  153161.5652134555\n",
            "Mse_lr:  54824397535.26486\n",
            "Rmse_lr:  234146.10296834935\n"
          ]
        }
      ],
      "source": [
        "print('Mae_lr: ',mae_lr)\n",
        "print('Mse_lr: ',mse_lr)\n",
        "print('Rmse_lr: ',rmse_lr)"
      ]
    },
    {
      "cell_type": "code",
      "execution_count": null,
      "metadata": {
        "execution": {
          "iopub.execute_input": "2021-03-28T15:07:25.306121Z",
          "iopub.status.busy": "2021-03-28T15:07:25.305197Z",
          "iopub.status.idle": "2021-03-28T15:07:25.319208Z",
          "shell.execute_reply": "2021-03-28T15:07:25.318606Z"
        },
        "papermill": {
          "duration": 0.144605,
          "end_time": "2021-03-28T15:07:25.319361",
          "exception": false,
          "start_time": "2021-03-28T15:07:25.174756",
          "status": "completed"
        },
        "tags": [],
        "id": "8Yz0CQ-o85vm",
        "outputId": "c4c721b7-a694-4108-fbf4-b324bbb027e6"
      },
      "outputs": [
        {
          "data": {
            "text/html": [
              "<div>\n",
              "<style scoped>\n",
              "    .dataframe tbody tr th:only-of-type {\n",
              "        vertical-align: middle;\n",
              "    }\n",
              "\n",
              "    .dataframe tbody tr th {\n",
              "        vertical-align: top;\n",
              "    }\n",
              "\n",
              "    .dataframe thead th {\n",
              "        text-align: right;\n",
              "    }\n",
              "</style>\n",
              "<table border=\"1\" class=\"dataframe\">\n",
              "  <thead>\n",
              "    <tr style=\"text-align: right;\">\n",
              "      <th></th>\n",
              "      <th>Price</th>\n",
              "      <th>Predictions</th>\n",
              "      <th>Error</th>\n",
              "    </tr>\n",
              "  </thead>\n",
              "  <tbody>\n",
              "    <tr>\n",
              "      <th>0</th>\n",
              "      <td>221900.0</td>\n",
              "      <td>333194.535835</td>\n",
              "      <td>-111294.535835</td>\n",
              "    </tr>\n",
              "    <tr>\n",
              "      <th>1</th>\n",
              "      <td>538000.0</td>\n",
              "      <td>646143.675916</td>\n",
              "      <td>-108143.675916</td>\n",
              "    </tr>\n",
              "    <tr>\n",
              "      <th>2</th>\n",
              "      <td>180000.0</td>\n",
              "      <td>148119.323809</td>\n",
              "      <td>31880.676191</td>\n",
              "    </tr>\n",
              "    <tr>\n",
              "      <th>3</th>\n",
              "      <td>604000.0</td>\n",
              "      <td>605687.857613</td>\n",
              "      <td>-1687.857613</td>\n",
              "    </tr>\n",
              "    <tr>\n",
              "      <th>4</th>\n",
              "      <td>510000.0</td>\n",
              "      <td>652832.231348</td>\n",
              "      <td>-142832.231348</td>\n",
              "    </tr>\n",
              "  </tbody>\n",
              "</table>\n",
              "</div>"
            ],
            "text/plain": [
              "      Price    Predictions          Error\n",
              "0  221900.0  333194.535835 -111294.535835\n",
              "1  538000.0  646143.675916 -108143.675916\n",
              "2  180000.0  148119.323809   31880.676191\n",
              "3  604000.0  605687.857613   -1687.857613\n",
              "4  510000.0  652832.231348 -142832.231348"
            ]
          },
          "execution_count": 60,
          "metadata": {},
          "output_type": "execute_result"
        }
      ],
      "source": [
        "preco_lr = df['price']\n",
        "predict_lr = pd.Series(pred_lr)\n",
        "error_lr = preco_lr-predict_lr\n",
        "data_lr = {'Price':preco_lr,'Predictions':predict_lr,'Error':error_lr}\n",
        "data_prev_lr = pd.DataFrame(data_lr)\n",
        "data_prev_lr.head()"
      ]
    },
    {
      "cell_type": "code",
      "execution_count": null,
      "metadata": {
        "execution": {
          "iopub.execute_input": "2021-03-28T15:07:25.598125Z",
          "iopub.status.busy": "2021-03-28T15:07:25.597370Z",
          "iopub.status.idle": "2021-03-28T15:07:25.777970Z",
          "shell.execute_reply": "2021-03-28T15:07:25.777406Z"
        },
        "papermill": {
          "duration": 0.330971,
          "end_time": "2021-03-28T15:07:25.778142",
          "exception": false,
          "start_time": "2021-03-28T15:07:25.447171",
          "status": "completed"
        },
        "tags": [],
        "id": "BxuWa8-385vm",
        "outputId": "e0b5aa03-6810-469c-93ca-10022c85180b"
      },
      "outputs": [
        {
          "data": {
            "text/plain": [
              "[<matplotlib.lines.Line2D at 0x7fda49590790>]"
            ]
          },
          "execution_count": 61,
          "metadata": {},
          "output_type": "execute_result"
        },
        {
          "data": {
            "image/png": "[encoded data removed]",
            "text/plain": [
              "<Figure size 720x432 with 1 Axes>"
            ]
          },
          "metadata": {
            "needs_background": "light"
          },
          "output_type": "display_data"
        }
      ],
      "source": [
        "resizeplot(10,6)\n",
        "plt.scatter(y_test,pred_lr)\n",
        "plt.plot(y_test,y_test,color='red')"
      ]
    },
    {
      "cell_type": "markdown",
      "metadata": {
        "papermill": {
          "duration": 0.128185,
          "end_time": "2021-03-28T15:07:26.035147",
          "exception": false,
          "start_time": "2021-03-28T15:07:25.906962",
          "status": "completed"
        },
        "tags": [],
        "id": "y-5uOVyR85vv"
      },
      "source": [
        "**POLYNOMIAL REGRESSION**"
      ]
    },
    {
      "cell_type": "code",
      "execution_count": null,
      "metadata": {
        "execution": {
          "iopub.execute_input": "2021-03-28T15:07:26.296512Z",
          "iopub.status.busy": "2021-03-28T15:07:26.295807Z",
          "iopub.status.idle": "2021-03-28T15:07:26.299518Z",
          "shell.execute_reply": "2021-03-28T15:07:26.298857Z"
        },
        "papermill": {
          "duration": 0.135855,
          "end_time": "2021-03-28T15:07:26.299661",
          "exception": false,
          "start_time": "2021-03-28T15:07:26.163806",
          "status": "completed"
        },
        "tags": [],
        "id": "9sj0MHLq85vv"
      },
      "outputs": [],
      "source": [
        "poly = PolynomialFeatures(degree=4)"
      ]
    },
    {
      "cell_type": "code",
      "execution_count": null,
      "metadata": {
        "execution": {
          "iopub.execute_input": "2021-03-28T15:07:26.567723Z",
          "iopub.status.busy": "2021-03-28T15:07:26.566414Z",
          "iopub.status.idle": "2021-03-28T15:07:26.882539Z",
          "shell.execute_reply": "2021-03-28T15:07:26.881730Z"
        },
        "papermill": {
          "duration": 0.452267,
          "end_time": "2021-03-28T15:07:26.882707",
          "exception": false,
          "start_time": "2021-03-28T15:07:26.430440",
          "status": "completed"
        },
        "tags": [],
        "id": "5Tk7z3p485vw"
      },
      "outputs": [],
      "source": [
        "X_train_poly = poly.fit_transform(X_train)"
      ]
    },
    {
      "cell_type": "code",
      "execution_count": null,
      "metadata": {
        "execution": {
          "iopub.execute_input": "2021-03-28T15:07:27.145420Z",
          "iopub.status.busy": "2021-03-28T15:07:27.144767Z",
          "iopub.status.idle": "2021-03-28T15:07:27.280247Z",
          "shell.execute_reply": "2021-03-28T15:07:27.279442Z"
        },
        "papermill": {
          "duration": 0.267462,
          "end_time": "2021-03-28T15:07:27.280399",
          "exception": false,
          "start_time": "2021-03-28T15:07:27.012937",
          "status": "completed"
        },
        "tags": [],
        "id": "YYux0LZB85vw"
      },
      "outputs": [],
      "source": [
        "X_test_poly = poly.transform(X_test)"
      ]
    },
    {
      "cell_type": "code",
      "execution_count": null,
      "metadata": {
        "execution": {
          "iopub.execute_input": "2021-03-28T15:07:27.552768Z",
          "iopub.status.busy": "2021-03-28T15:07:27.552055Z",
          "iopub.status.idle": "2021-03-28T15:07:44.909535Z",
          "shell.execute_reply": "2021-03-28T15:07:44.910800Z"
        },
        "papermill": {
          "duration": 17.497927,
          "end_time": "2021-03-28T15:07:44.911099",
          "exception": false,
          "start_time": "2021-03-28T15:07:27.413172",
          "status": "completed"
        },
        "tags": [],
        "id": "Z20NYe4985vx",
        "outputId": "cb7e34ad-4914-4d70-cf84-e950e6c517bf"
      },
      "outputs": [
        {
          "data": {
            "text/plain": [
              "LinearRegression()"
            ]
          },
          "execution_count": 65,
          "metadata": {},
          "output_type": "execute_result"
        }
      ],
      "source": [
        "lr.fit(X_train_poly,y_train)"
      ]
    },
    {
      "cell_type": "code",
      "execution_count": null,
      "metadata": {
        "execution": {
          "iopub.execute_input": "2021-03-28T15:07:45.223316Z",
          "iopub.status.busy": "2021-03-28T15:07:45.222526Z",
          "iopub.status.idle": "2021-03-28T15:07:45.341059Z",
          "shell.execute_reply": "2021-03-28T15:07:45.340471Z"
        },
        "papermill": {
          "duration": 0.252758,
          "end_time": "2021-03-28T15:07:45.341241",
          "exception": false,
          "start_time": "2021-03-28T15:07:45.088483",
          "status": "completed"
        },
        "tags": [],
        "id": "PCcqXqnK85vx"
      },
      "outputs": [],
      "source": [
        "score_poly = lr.score(X_train_poly,y_train)"
      ]
    },
    {
      "cell_type": "code",
      "execution_count": null,
      "metadata": {
        "execution": {
          "iopub.execute_input": "2021-03-28T15:07:45.608388Z",
          "iopub.status.busy": "2021-03-28T15:07:45.607356Z",
          "iopub.status.idle": "2021-03-28T15:07:45.610830Z",
          "shell.execute_reply": "2021-03-28T15:07:45.611346Z"
        },
        "papermill": {
          "duration": 0.142076,
          "end_time": "2021-03-28T15:07:45.611537",
          "exception": false,
          "start_time": "2021-03-28T15:07:45.469461",
          "status": "completed"
        },
        "tags": [],
        "id": "8k8Vv_Li85vy",
        "outputId": "424781ea-9364-46ac-c680-165f2f6edca8"
      },
      "outputs": [
        {
          "name": "stdout",
          "output_type": "stream",
          "text": [
            "0.7565184621922203\n"
          ]
        }
      ],
      "source": [
        "print(score_poly)"
      ]
    },
    {
      "cell_type": "code",
      "execution_count": null,
      "metadata": {
        "execution": {
          "iopub.execute_input": "2021-03-28T15:07:45.929461Z",
          "iopub.status.busy": "2021-03-28T15:07:45.928690Z",
          "iopub.status.idle": "2021-03-28T15:07:45.980764Z",
          "shell.execute_reply": "2021-03-28T15:07:45.979803Z"
        },
        "papermill": {
          "duration": 0.186453,
          "end_time": "2021-03-28T15:07:45.980939",
          "exception": false,
          "start_time": "2021-03-28T15:07:45.794486",
          "status": "completed"
        },
        "tags": [],
        "id": "ozs75Fhi85vy"
      },
      "outputs": [],
      "source": [
        "pred_poly = lr.predict(X_test_poly)"
      ]
    },
    {
      "cell_type": "code",
      "execution_count": null,
      "metadata": {
        "execution": {
          "iopub.execute_input": "2021-03-28T15:07:46.248791Z",
          "iopub.status.busy": "2021-03-28T15:07:46.248084Z",
          "iopub.status.idle": "2021-03-28T15:07:46.251803Z",
          "shell.execute_reply": "2021-03-28T15:07:46.251116Z"
        },
        "papermill": {
          "duration": 0.13935,
          "end_time": "2021-03-28T15:07:46.251958",
          "exception": false,
          "start_time": "2021-03-28T15:07:46.112608",
          "status": "completed"
        },
        "tags": [],
        "id": "gUGzG1WJ85vz",
        "outputId": "ba387bf0-f043-4df7-c19c-dd33fee6fd7d"
      },
      "outputs": [
        {
          "data": {
            "text/plain": [
              "378487.44330813887"
            ]
          },
          "execution_count": 69,
          "metadata": {},
          "output_type": "execute_result"
        }
      ],
      "source": [
        "pred_poly[0]"
      ]
    },
    {
      "cell_type": "code",
      "execution_count": null,
      "metadata": {
        "execution": {
          "iopub.execute_input": "2021-03-28T15:07:46.566174Z",
          "iopub.status.busy": "2021-03-28T15:07:46.565476Z",
          "iopub.status.idle": "2021-03-28T15:07:46.569903Z",
          "shell.execute_reply": "2021-03-28T15:07:46.569340Z"
        },
        "papermill": {
          "duration": 0.145116,
          "end_time": "2021-03-28T15:07:46.570070",
          "exception": false,
          "start_time": "2021-03-28T15:07:46.424954",
          "status": "completed"
        },
        "tags": [],
        "id": "lim5LP8D85vz"
      },
      "outputs": [],
      "source": [
        "mae_poly = mean_absolute_error(y_test,pred_poly)\n",
        "mse_poly = mean_squared_error(y_test,pred_poly)\n",
        "rmse_poly = np.sqrt(mean_squared_error(y_test,pred_poly))"
      ]
    },
    {
      "cell_type": "code",
      "execution_count": null,
      "metadata": {
        "execution": {
          "iopub.execute_input": "2021-03-28T15:07:46.842679Z",
          "iopub.status.busy": "2021-03-28T15:07:46.841936Z",
          "iopub.status.idle": "2021-03-28T15:07:46.847103Z",
          "shell.execute_reply": "2021-03-28T15:07:46.846359Z"
        },
        "papermill": {
          "duration": 0.142078,
          "end_time": "2021-03-28T15:07:46.847315",
          "exception": false,
          "start_time": "2021-03-28T15:07:46.705237",
          "status": "completed"
        },
        "tags": [],
        "id": "h03BkAPn85v0",
        "outputId": "af2d29ab-371e-4403-88cd-e5b169dac1c3"
      },
      "outputs": [
        {
          "name": "stdout",
          "output_type": "stream",
          "text": [
            "Mae_poly: 730986.9009793977\n",
            "Mse_poly: 955898916590599.2\n",
            "Rmse_poly: 30917614.988717988\n"
          ]
        }
      ],
      "source": [
        "print('Mae_poly:',mae_poly)\n",
        "print('Mse_poly:',mse_poly)\n",
        "print('Rmse_poly:',rmse_poly)"
      ]
    },
    {
      "cell_type": "markdown",
      "metadata": {
        "papermill": {
          "duration": 0.13095,
          "end_time": "2021-03-28T15:07:47.110099",
          "exception": false,
          "start_time": "2021-03-28T15:07:46.979149",
          "status": "completed"
        },
        "tags": [],
        "id": "j3B4xqP685v1"
      },
      "source": [
        "**DECISION TREE REGRESSOR**"
      ]
    },
    {
      "cell_type": "code",
      "execution_count": null,
      "metadata": {
        "execution": {
          "iopub.execute_input": "2021-03-28T15:07:47.386011Z",
          "iopub.status.busy": "2021-03-28T15:07:47.385332Z",
          "iopub.status.idle": "2021-03-28T15:07:47.387736Z",
          "shell.execute_reply": "2021-03-28T15:07:47.388332Z"
        },
        "papermill": {
          "duration": 0.145885,
          "end_time": "2021-03-28T15:07:47.388522",
          "exception": false,
          "start_time": "2021-03-28T15:07:47.242637",
          "status": "completed"
        },
        "tags": [],
        "id": "ra3G4KsM85v1"
      },
      "outputs": [],
      "source": [
        "dtr = DecisionTreeRegressor(random_state=0)"
      ]
    },
    {
      "cell_type": "code",
      "execution_count": null,
      "metadata": {
        "execution": {
          "iopub.execute_input": "2021-03-28T15:07:47.665164Z",
          "iopub.status.busy": "2021-03-28T15:07:47.664473Z",
          "iopub.status.idle": "2021-03-28T15:07:47.819517Z",
          "shell.execute_reply": "2021-03-28T15:07:47.818781Z"
        },
        "papermill": {
          "duration": 0.295163,
          "end_time": "2021-03-28T15:07:47.819669",
          "exception": false,
          "start_time": "2021-03-28T15:07:47.524506",
          "status": "completed"
        },
        "tags": [],
        "id": "AooE55Hu85v1",
        "outputId": "73460d13-9569-4b0c-af52-accd3aed53cd"
      },
      "outputs": [
        {
          "data": {
            "text/plain": [
              "DecisionTreeRegressor(random_state=0)"
            ]
          },
          "execution_count": 73,
          "metadata": {},
          "output_type": "execute_result"
        }
      ],
      "source": [
        "dtr.fit(X_train,y_train)"
      ]
    },
    {
      "cell_type": "code",
      "execution_count": null,
      "metadata": {
        "execution": {
          "iopub.execute_input": "2021-03-28T15:07:48.098287Z",
          "iopub.status.busy": "2021-03-28T15:07:48.097562Z",
          "iopub.status.idle": "2021-03-28T15:07:48.105307Z",
          "shell.execute_reply": "2021-03-28T15:07:48.104569Z"
        },
        "papermill": {
          "duration": 0.149238,
          "end_time": "2021-03-28T15:07:48.105478",
          "exception": false,
          "start_time": "2021-03-28T15:07:47.956240",
          "status": "completed"
        },
        "tags": [],
        "id": "e8oseAl685v2"
      },
      "outputs": [],
      "source": [
        "pred_dtr = dtr.predict(X_test)"
      ]
    },
    {
      "cell_type": "code",
      "execution_count": null,
      "metadata": {
        "execution": {
          "iopub.execute_input": "2021-03-28T15:07:48.375771Z",
          "iopub.status.busy": "2021-03-28T15:07:48.374821Z",
          "iopub.status.idle": "2021-03-28T15:07:48.387907Z",
          "shell.execute_reply": "2021-03-28T15:07:48.387274Z"
        },
        "papermill": {
          "duration": 0.153133,
          "end_time": "2021-03-28T15:07:48.388073",
          "exception": false,
          "start_time": "2021-03-28T15:07:48.234940",
          "status": "completed"
        },
        "tags": [],
        "id": "CIbmOnzo85v2"
      },
      "outputs": [],
      "source": [
        "score_dtr = dtr.score(X_train,y_train)"
      ]
    },
    {
      "cell_type": "code",
      "execution_count": null,
      "metadata": {
        "execution": {
          "iopub.execute_input": "2021-03-28T15:07:48.663545Z",
          "iopub.status.busy": "2021-03-28T15:07:48.662579Z",
          "iopub.status.idle": "2021-03-28T15:07:48.666595Z",
          "shell.execute_reply": "2021-03-28T15:07:48.665861Z"
        },
        "papermill": {
          "duration": 0.143124,
          "end_time": "2021-03-28T15:07:48.666747",
          "exception": false,
          "start_time": "2021-03-28T15:07:48.523623",
          "status": "completed"
        },
        "tags": [],
        "id": "2hD3Dp_q85v3",
        "outputId": "0fd2465c-a3b0-445b-caa2-0cb4403cc58e"
      },
      "outputs": [
        {
          "name": "stdout",
          "output_type": "stream",
          "text": [
            "0.9993665112324681\n"
          ]
        }
      ],
      "source": [
        "print(score_dtr)"
      ]
    },
    {
      "cell_type": "code",
      "execution_count": null,
      "metadata": {
        "execution": {
          "iopub.execute_input": "2021-03-28T15:07:48.937913Z",
          "iopub.status.busy": "2021-03-28T15:07:48.937219Z",
          "iopub.status.idle": "2021-03-28T15:07:48.939311Z",
          "shell.execute_reply": "2021-03-28T15:07:48.939773Z"
        },
        "papermill": {
          "duration": 0.142282,
          "end_time": "2021-03-28T15:07:48.939959",
          "exception": false,
          "start_time": "2021-03-28T15:07:48.797677",
          "status": "completed"
        },
        "tags": [],
        "id": "lEPYBDHF85v3"
      },
      "outputs": [],
      "source": [
        "mae_dtr = mean_absolute_error(y_test,pred_dtr)\n",
        "mse_dtr = mean_squared_error(y_test,pred_dtr)\n",
        "rmse_dtr = np.sqrt(mse_dtr)"
      ]
    },
    {
      "cell_type": "code",
      "execution_count": null,
      "metadata": {
        "execution": {
          "iopub.execute_input": "2021-03-28T15:07:49.209248Z",
          "iopub.status.busy": "2021-03-28T15:07:49.208499Z",
          "iopub.status.idle": "2021-03-28T15:07:49.215256Z",
          "shell.execute_reply": "2021-03-28T15:07:49.216047Z"
        },
        "papermill": {
          "duration": 0.144606,
          "end_time": "2021-03-28T15:07:49.216285",
          "exception": false,
          "start_time": "2021-03-28T15:07:49.071679",
          "status": "completed"
        },
        "tags": [],
        "id": "DDmumM-n85v4",
        "outputId": "bb184903-6df2-4ee7-8b59-47595d18f214"
      },
      "outputs": [
        {
          "name": "stdout",
          "output_type": "stream",
          "text": [
            "Mae_dtr:  168671.58878264442\n",
            "Mse_dtr:  70711451410.27277\n",
            "Rmse_dtr:  265916.24886469945\n"
          ]
        }
      ],
      "source": [
        "print('Mae_dtr: ',mae_dtr)\n",
        "print('Mse_dtr: ',mse_dtr)\n",
        "print('Rmse_dtr: ',rmse_dtr)"
      ]
    },
    {
      "cell_type": "code",
      "execution_count": null,
      "metadata": {
        "execution": {
          "iopub.execute_input": "2021-03-28T15:07:49.487871Z",
          "iopub.status.busy": "2021-03-28T15:07:49.487234Z",
          "iopub.status.idle": "2021-03-28T15:07:49.504211Z",
          "shell.execute_reply": "2021-03-28T15:07:49.504821Z"
        },
        "papermill": {
          "duration": 0.153471,
          "end_time": "2021-03-28T15:07:49.504997",
          "exception": false,
          "start_time": "2021-03-28T15:07:49.351526",
          "status": "completed"
        },
        "tags": [],
        "id": "3LDBv9I785v4",
        "outputId": "9cb9eb39-8a34-4c46-c080-cac5b3067acb"
      },
      "outputs": [
        {
          "data": {
            "text/html": [
              "<div>\n",
              "<style scoped>\n",
              "    .dataframe tbody tr th:only-of-type {\n",
              "        vertical-align: middle;\n",
              "    }\n",
              "\n",
              "    .dataframe tbody tr th {\n",
              "        vertical-align: top;\n",
              "    }\n",
              "\n",
              "    .dataframe thead th {\n",
              "        text-align: right;\n",
              "    }\n",
              "</style>\n",
              "<table border=\"1\" class=\"dataframe\">\n",
              "  <thead>\n",
              "    <tr style=\"text-align: right;\">\n",
              "      <th></th>\n",
              "      <th>Price</th>\n",
              "      <th>Predictions</th>\n",
              "      <th>Error</th>\n",
              "    </tr>\n",
              "  </thead>\n",
              "  <tbody>\n",
              "    <tr>\n",
              "      <th>0</th>\n",
              "      <td>221900.0</td>\n",
              "      <td>410000.0</td>\n",
              "      <td>-188100.0</td>\n",
              "    </tr>\n",
              "    <tr>\n",
              "      <th>1</th>\n",
              "      <td>538000.0</td>\n",
              "      <td>600000.0</td>\n",
              "      <td>-62000.0</td>\n",
              "    </tr>\n",
              "    <tr>\n",
              "      <th>2</th>\n",
              "      <td>180000.0</td>\n",
              "      <td>290000.0</td>\n",
              "      <td>-110000.0</td>\n",
              "    </tr>\n",
              "    <tr>\n",
              "      <th>3</th>\n",
              "      <td>604000.0</td>\n",
              "      <td>400000.0</td>\n",
              "      <td>204000.0</td>\n",
              "    </tr>\n",
              "    <tr>\n",
              "      <th>4</th>\n",
              "      <td>510000.0</td>\n",
              "      <td>612000.0</td>\n",
              "      <td>-102000.0</td>\n",
              "    </tr>\n",
              "  </tbody>\n",
              "</table>\n",
              "</div>"
            ],
            "text/plain": [
              "      Price  Predictions     Error\n",
              "0  221900.0     410000.0 -188100.0\n",
              "1  538000.0     600000.0  -62000.0\n",
              "2  180000.0     290000.0 -110000.0\n",
              "3  604000.0     400000.0  204000.0\n",
              "4  510000.0     612000.0 -102000.0"
            ]
          },
          "execution_count": 79,
          "metadata": {},
          "output_type": "execute_result"
        }
      ],
      "source": [
        "price_dtr = df['price']\n",
        "predict_dtr = pd.Series(pred_dtr)\n",
        "error_dtr = price_dtr-predict_dtr\n",
        "data_dtr = {'Price':price_dtr,'Predictions':predict_dtr,'Error':error_dtr}\n",
        "data_prev_dtr = pd.DataFrame(data_dtr)\n",
        "data_prev_dtr.head()"
      ]
    },
    {
      "cell_type": "code",
      "execution_count": null,
      "metadata": {
        "execution": {
          "iopub.execute_input": "2021-03-28T15:07:49.777012Z",
          "iopub.status.busy": "2021-03-28T15:07:49.776383Z",
          "iopub.status.idle": "2021-03-28T15:07:49.783391Z",
          "shell.execute_reply": "2021-03-28T15:07:49.783919Z"
        },
        "papermill": {
          "duration": 0.143726,
          "end_time": "2021-03-28T15:07:49.784121",
          "exception": false,
          "start_time": "2021-03-28T15:07:49.640395",
          "status": "completed"
        },
        "tags": [],
        "id": "rKoQse_p85v5"
      },
      "outputs": [],
      "source": [
        "data_prev_dtr['Percentage_error'] = np.abs(data_prev_dtr['Error'])*100/data_prev_dtr['Price']"
      ]
    },
    {
      "cell_type": "code",
      "execution_count": null,
      "metadata": {
        "execution": {
          "iopub.execute_input": "2021-03-28T15:07:50.064684Z",
          "iopub.status.busy": "2021-03-28T15:07:50.063782Z",
          "iopub.status.idle": "2021-03-28T15:07:50.082811Z",
          "shell.execute_reply": "2021-03-28T15:07:50.081639Z"
        },
        "papermill": {
          "duration": 0.163317,
          "end_time": "2021-03-28T15:07:50.083070",
          "exception": false,
          "start_time": "2021-03-28T15:07:49.919753",
          "status": "completed"
        },
        "tags": [],
        "id": "cYnUYhjI85v5",
        "outputId": "6fcd4691-0e52-46cc-d524-17633471ef79"
      },
      "outputs": [
        {
          "data": {
            "text/html": [
              "<div>\n",
              "<style scoped>\n",
              "    .dataframe tbody tr th:only-of-type {\n",
              "        vertical-align: middle;\n",
              "    }\n",
              "\n",
              "    .dataframe tbody tr th {\n",
              "        vertical-align: top;\n",
              "    }\n",
              "\n",
              "    .dataframe thead th {\n",
              "        text-align: right;\n",
              "    }\n",
              "</style>\n",
              "<table border=\"1\" class=\"dataframe\">\n",
              "  <thead>\n",
              "    <tr style=\"text-align: right;\">\n",
              "      <th></th>\n",
              "      <th>Price</th>\n",
              "      <th>Predictions</th>\n",
              "      <th>Error</th>\n",
              "      <th>Percentage_error</th>\n",
              "    </tr>\n",
              "  </thead>\n",
              "  <tbody>\n",
              "    <tr>\n",
              "      <th>0</th>\n",
              "      <td>221900.0</td>\n",
              "      <td>410000.0</td>\n",
              "      <td>-188100.0</td>\n",
              "      <td>84.767913</td>\n",
              "    </tr>\n",
              "    <tr>\n",
              "      <th>1</th>\n",
              "      <td>538000.0</td>\n",
              "      <td>600000.0</td>\n",
              "      <td>-62000.0</td>\n",
              "      <td>11.524164</td>\n",
              "    </tr>\n",
              "    <tr>\n",
              "      <th>2</th>\n",
              "      <td>180000.0</td>\n",
              "      <td>290000.0</td>\n",
              "      <td>-110000.0</td>\n",
              "      <td>61.111111</td>\n",
              "    </tr>\n",
              "    <tr>\n",
              "      <th>3</th>\n",
              "      <td>604000.0</td>\n",
              "      <td>400000.0</td>\n",
              "      <td>204000.0</td>\n",
              "      <td>33.774834</td>\n",
              "    </tr>\n",
              "    <tr>\n",
              "      <th>4</th>\n",
              "      <td>510000.0</td>\n",
              "      <td>612000.0</td>\n",
              "      <td>-102000.0</td>\n",
              "      <td>20.000000</td>\n",
              "    </tr>\n",
              "  </tbody>\n",
              "</table>\n",
              "</div>"
            ],
            "text/plain": [
              "      Price  Predictions     Error  Percentage_error\n",
              "0  221900.0     410000.0 -188100.0         84.767913\n",
              "1  538000.0     600000.0  -62000.0         11.524164\n",
              "2  180000.0     290000.0 -110000.0         61.111111\n",
              "3  604000.0     400000.0  204000.0         33.774834\n",
              "4  510000.0     612000.0 -102000.0         20.000000"
            ]
          },
          "execution_count": 81,
          "metadata": {},
          "output_type": "execute_result"
        }
      ],
      "source": [
        "data_prev_dtr.head()"
      ]
    },
    {
      "cell_type": "code",
      "execution_count": null,
      "metadata": {
        "execution": {
          "iopub.execute_input": "2021-03-28T15:07:50.384535Z",
          "iopub.status.busy": "2021-03-28T15:07:50.383751Z",
          "iopub.status.idle": "2021-03-28T15:07:50.588235Z",
          "shell.execute_reply": "2021-03-28T15:07:50.588745Z"
        },
        "papermill": {
          "duration": 0.349846,
          "end_time": "2021-03-28T15:07:50.588924",
          "exception": false,
          "start_time": "2021-03-28T15:07:50.239078",
          "status": "completed"
        },
        "tags": [],
        "id": "YaBHIsBn85v6",
        "outputId": "41388ba2-969e-4334-a2ef-4881d106d4b8"
      },
      "outputs": [
        {
          "data": {
            "text/plain": [
              "[<matplotlib.lines.Line2D at 0x7fda49505f90>]"
            ]
          },
          "execution_count": 82,
          "metadata": {},
          "output_type": "execute_result"
        },
        {
          "data": {
            "image/png": "[encoded data removed]",
            "text/plain": [
              "<Figure size 720x432 with 1 Axes>"
            ]
          },
          "metadata": {
            "needs_background": "light"
          },
          "output_type": "display_data"
        }
      ],
      "source": [
        "resizeplot(10,6)\n",
        "plt.scatter(y_test,pred_dtr)\n",
        "plt.plot(y_test,y_test,color='red')"
      ]
    },
    {
      "cell_type": "markdown",
      "metadata": {
        "papermill": {
          "duration": 0.133325,
          "end_time": "2021-03-28T15:07:50.860797",
          "exception": false,
          "start_time": "2021-03-28T15:07:50.727472",
          "status": "completed"
        },
        "tags": [],
        "id": "RkkMU3bJ85v6"
      },
      "source": [
        "> **KNN REGRESSOR**"
      ]
    },
    {
      "cell_type": "code",
      "execution_count": null,
      "metadata": {
        "execution": {
          "iopub.execute_input": "2021-03-28T15:07:51.143509Z",
          "iopub.status.busy": "2021-03-28T15:07:51.142727Z",
          "iopub.status.idle": "2021-03-28T15:07:51.146157Z",
          "shell.execute_reply": "2021-03-28T15:07:51.145571Z"
        },
        "papermill": {
          "duration": 0.148504,
          "end_time": "2021-03-28T15:07:51.146313",
          "exception": false,
          "start_time": "2021-03-28T15:07:50.997809",
          "status": "completed"
        },
        "tags": [],
        "id": "1pP7TuGf85v7"
      },
      "outputs": [],
      "source": [
        "knr = KNeighborsRegressor(n_neighbors = 10)"
      ]
    },
    {
      "cell_type": "code",
      "execution_count": null,
      "metadata": {
        "execution": {
          "iopub.execute_input": "2021-03-28T15:07:51.425547Z",
          "iopub.status.busy": "2021-03-28T15:07:51.424577Z",
          "iopub.status.idle": "2021-03-28T15:07:51.456948Z",
          "shell.execute_reply": "2021-03-28T15:07:51.456306Z"
        },
        "papermill": {
          "duration": 0.171925,
          "end_time": "2021-03-28T15:07:51.457108",
          "exception": false,
          "start_time": "2021-03-28T15:07:51.285183",
          "status": "completed"
        },
        "tags": [],
        "id": "S4wOzM_j85v7",
        "outputId": "1455dfa8-b712-4171-a0dd-5443857f54c6"
      },
      "outputs": [
        {
          "data": {
            "text/plain": [
              "KNeighborsRegressor(n_neighbors=10)"
            ]
          },
          "execution_count": 84,
          "metadata": {},
          "output_type": "execute_result"
        }
      ],
      "source": [
        "knr.fit(X_train,y_train)"
      ]
    },
    {
      "cell_type": "code",
      "execution_count": null,
      "metadata": {
        "execution": {
          "iopub.execute_input": "2021-03-28T15:07:51.734575Z",
          "iopub.status.busy": "2021-03-28T15:07:51.733406Z",
          "iopub.status.idle": "2021-03-28T15:07:52.047921Z",
          "shell.execute_reply": "2021-03-28T15:07:52.048454Z"
        },
        "papermill": {
          "duration": 0.455432,
          "end_time": "2021-03-28T15:07:52.048654",
          "exception": false,
          "start_time": "2021-03-28T15:07:51.593222",
          "status": "completed"
        },
        "tags": [],
        "id": "uxKzNism85v8"
      },
      "outputs": [],
      "source": [
        "score_knr = knr.score(X_train,y_train)"
      ]
    },
    {
      "cell_type": "code",
      "execution_count": null,
      "metadata": {
        "execution": {
          "iopub.execute_input": "2021-03-28T15:07:52.328830Z",
          "iopub.status.busy": "2021-03-28T15:07:52.328090Z",
          "iopub.status.idle": "2021-03-28T15:07:52.332833Z",
          "shell.execute_reply": "2021-03-28T15:07:52.331921Z"
        },
        "papermill": {
          "duration": 0.146308,
          "end_time": "2021-03-28T15:07:52.333057",
          "exception": false,
          "start_time": "2021-03-28T15:07:52.186749",
          "status": "completed"
        },
        "tags": [],
        "id": "14Tzd7IF85v8",
        "outputId": "68fa16ad-bb8c-4b81-8d70-e11faa33190b"
      },
      "outputs": [
        {
          "name": "stdout",
          "output_type": "stream",
          "text": [
            "0.5900434125593885\n"
          ]
        }
      ],
      "source": [
        "print(score_knr)"
      ]
    },
    {
      "cell_type": "code",
      "execution_count": null,
      "metadata": {
        "execution": {
          "iopub.execute_input": "2021-03-28T15:07:52.611916Z",
          "iopub.status.busy": "2021-03-28T15:07:52.610838Z",
          "iopub.status.idle": "2021-03-28T15:07:52.755335Z",
          "shell.execute_reply": "2021-03-28T15:07:52.754491Z"
        },
        "papermill": {
          "duration": 0.286624,
          "end_time": "2021-03-28T15:07:52.755501",
          "exception": false,
          "start_time": "2021-03-28T15:07:52.468877",
          "status": "completed"
        },
        "tags": [],
        "id": "9KySH0Y685v9"
      },
      "outputs": [],
      "source": [
        "pred_knr = knr.predict(X_test)"
      ]
    },
    {
      "cell_type": "code",
      "execution_count": null,
      "metadata": {
        "execution": {
          "iopub.execute_input": "2021-03-28T15:07:53.039884Z",
          "iopub.status.busy": "2021-03-28T15:07:53.038944Z",
          "iopub.status.idle": "2021-03-28T15:07:53.043069Z",
          "shell.execute_reply": "2021-03-28T15:07:53.043635Z"
        },
        "papermill": {
          "duration": 0.150425,
          "end_time": "2021-03-28T15:07:53.043809",
          "exception": false,
          "start_time": "2021-03-28T15:07:52.893384",
          "status": "completed"
        },
        "tags": [],
        "id": "G23JowX085v9"
      },
      "outputs": [],
      "source": [
        "mae_knr = mean_absolute_error(y_test,pred_knr)\n",
        "mse_knr = mean_squared_error(y_test,pred_knr)\n",
        "rmse_knr = np.sqrt(mse_knr)"
      ]
    },
    {
      "cell_type": "code",
      "execution_count": null,
      "metadata": {
        "execution": {
          "iopub.execute_input": "2021-03-28T15:07:53.326622Z",
          "iopub.status.busy": "2021-03-28T15:07:53.325728Z",
          "iopub.status.idle": "2021-03-28T15:07:53.329655Z",
          "shell.execute_reply": "2021-03-28T15:07:53.328996Z"
        },
        "papermill": {
          "duration": 0.146365,
          "end_time": "2021-03-28T15:07:53.329801",
          "exception": false,
          "start_time": "2021-03-28T15:07:53.183436",
          "status": "completed"
        },
        "tags": [],
        "id": "cxL8W1lH85v-",
        "outputId": "a54353be-3772-4e2c-d478-efa9f5625f10"
      },
      "outputs": [
        {
          "name": "stdout",
          "output_type": "stream",
          "text": [
            "Mae_knr:  156100.87049660704\n",
            "Mse_knr:  69166272053.38312\n",
            "Rmse_knr:  262994.8137385662\n"
          ]
        }
      ],
      "source": [
        "print('Mae_knr: ',mae_knr)\n",
        "print('Mse_knr: ',mse_knr)\n",
        "print('Rmse_knr: ',rmse_knr)"
      ]
    },
    {
      "cell_type": "code",
      "execution_count": null,
      "metadata": {
        "execution": {
          "iopub.execute_input": "2021-03-28T15:07:53.616340Z",
          "iopub.status.busy": "2021-03-28T15:07:53.615468Z",
          "iopub.status.idle": "2021-03-28T15:07:53.632849Z",
          "shell.execute_reply": "2021-03-28T15:07:53.631921Z"
        },
        "papermill": {
          "duration": 0.164224,
          "end_time": "2021-03-28T15:07:53.633011",
          "exception": false,
          "start_time": "2021-03-28T15:07:53.468787",
          "status": "completed"
        },
        "tags": [],
        "id": "TxiZQtP785v-",
        "outputId": "8951ee95-cd71-4f44-a2b5-3eb8819dcc29"
      },
      "outputs": [
        {
          "data": {
            "text/html": [
              "<div>\n",
              "<style scoped>\n",
              "    .dataframe tbody tr th:only-of-type {\n",
              "        vertical-align: middle;\n",
              "    }\n",
              "\n",
              "    .dataframe tbody tr th {\n",
              "        vertical-align: top;\n",
              "    }\n",
              "\n",
              "    .dataframe thead th {\n",
              "        text-align: right;\n",
              "    }\n",
              "</style>\n",
              "<table border=\"1\" class=\"dataframe\">\n",
              "  <thead>\n",
              "    <tr style=\"text-align: right;\">\n",
              "      <th></th>\n",
              "      <th>Price</th>\n",
              "      <th>Predictions</th>\n",
              "      <th>Error</th>\n",
              "    </tr>\n",
              "  </thead>\n",
              "  <tbody>\n",
              "    <tr>\n",
              "      <th>0</th>\n",
              "      <td>221900.0</td>\n",
              "      <td>383045.0</td>\n",
              "      <td>-161145.0</td>\n",
              "    </tr>\n",
              "    <tr>\n",
              "      <th>1</th>\n",
              "      <td>538000.0</td>\n",
              "      <td>502437.5</td>\n",
              "      <td>35562.5</td>\n",
              "    </tr>\n",
              "    <tr>\n",
              "      <th>2</th>\n",
              "      <td>180000.0</td>\n",
              "      <td>759160.0</td>\n",
              "      <td>-579160.0</td>\n",
              "    </tr>\n",
              "    <tr>\n",
              "      <th>3</th>\n",
              "      <td>604000.0</td>\n",
              "      <td>450965.0</td>\n",
              "      <td>153035.0</td>\n",
              "    </tr>\n",
              "    <tr>\n",
              "      <th>4</th>\n",
              "      <td>510000.0</td>\n",
              "      <td>420800.0</td>\n",
              "      <td>89200.0</td>\n",
              "    </tr>\n",
              "  </tbody>\n",
              "</table>\n",
              "</div>"
            ],
            "text/plain": [
              "      Price  Predictions     Error\n",
              "0  221900.0     383045.0 -161145.0\n",
              "1  538000.0     502437.5   35562.5\n",
              "2  180000.0     759160.0 -579160.0\n",
              "3  604000.0     450965.0  153035.0\n",
              "4  510000.0     420800.0   89200.0"
            ]
          },
          "execution_count": 90,
          "metadata": {},
          "output_type": "execute_result"
        }
      ],
      "source": [
        "price_knr = df['price']\n",
        "predict_knr = pd.Series(pred_knr)\n",
        "error_knr = price_dtr-predict_knr\n",
        "data_knr = {'Price':price_knr,'Predictions':predict_knr,'Error':error_knr}\n",
        "data_prev_knr = pd.DataFrame(data_knr)\n",
        "data_prev_knr.head()"
      ]
    },
    {
      "cell_type": "code",
      "execution_count": null,
      "metadata": {
        "execution": {
          "iopub.execute_input": "2021-03-28T15:07:53.925393Z",
          "iopub.status.busy": "2021-03-28T15:07:53.924638Z",
          "iopub.status.idle": "2021-03-28T15:07:54.128428Z",
          "shell.execute_reply": "2021-03-28T15:07:54.128904Z"
        },
        "papermill": {
          "duration": 0.354272,
          "end_time": "2021-03-28T15:07:54.129111",
          "exception": false,
          "start_time": "2021-03-28T15:07:53.774839",
          "status": "completed"
        },
        "tags": [],
        "id": "nj8Mu-m785v_",
        "outputId": "4260e7df-624f-455b-fe1e-dbed1551f72d"
      },
      "outputs": [
        {
          "data": {
            "text/plain": [
              "[<matplotlib.lines.Line2D at 0x7fda4949a950>]"
            ]
          },
          "execution_count": 91,
          "metadata": {},
          "output_type": "execute_result"
        },
        {
          "data": {
            "image/png": "[encoded data removed]",
            "text/plain": [
              "<Figure size 720x432 with 1 Axes>"
            ]
          },
          "metadata": {
            "needs_background": "light"
          },
          "output_type": "display_data"
        }
      ],
      "source": [
        "resizeplot(10,6)\n",
        "plt.scatter(y_test,pred_knr)\n",
        "plt.plot(y_test,y_test,color='red')"
      ]
    },
    {
      "cell_type": "markdown",
      "metadata": {
        "papermill": {
          "duration": 0.14208,
          "end_time": "2021-03-28T15:07:54.412527",
          "exception": false,
          "start_time": "2021-03-28T15:07:54.270447",
          "status": "completed"
        },
        "tags": [],
        "id": "3MjLQnnh85wA"
      },
      "source": [
        "**XGBOOST**"
      ]
    },
    {
      "cell_type": "code",
      "execution_count": null,
      "metadata": {
        "execution": {
          "iopub.execute_input": "2021-03-28T15:07:54.703824Z",
          "iopub.status.busy": "2021-03-28T15:07:54.703218Z",
          "iopub.status.idle": "2021-03-28T15:07:54.707966Z",
          "shell.execute_reply": "2021-03-28T15:07:54.707374Z"
        },
        "papermill": {
          "duration": 0.149288,
          "end_time": "2021-03-28T15:07:54.708129",
          "exception": false,
          "start_time": "2021-03-28T15:07:54.558841",
          "status": "completed"
        },
        "tags": [],
        "id": "kfyvjOmi85wA"
      },
      "outputs": [],
      "source": [
        "xgb = XGBRegressor()"
      ]
    },
    {
      "cell_type": "code",
      "execution_count": null,
      "metadata": {
        "execution": {
          "iopub.execute_input": "2021-03-28T15:07:54.995597Z",
          "iopub.status.busy": "2021-03-28T15:07:54.994750Z",
          "iopub.status.idle": "2021-03-28T15:07:56.072557Z",
          "shell.execute_reply": "2021-03-28T15:07:56.071957Z"
        },
        "papermill": {
          "duration": 1.222714,
          "end_time": "2021-03-28T15:07:56.072765",
          "exception": false,
          "start_time": "2021-03-28T15:07:54.850051",
          "status": "completed"
        },
        "tags": [],
        "id": "0-PAOeE585wB",
        "outputId": "f9882632-ca68-45fe-9194-867fdbfc0bd9"
      },
      "outputs": [
        {
          "data": {
            "text/plain": [
              "XGBRegressor(base_score=0.5, booster='gbtree', colsample_bylevel=1,\n",
              "             colsample_bynode=1, colsample_bytree=1, gamma=0, gpu_id=-1,\n",
              "             importance_type='gain', interaction_constraints='',\n",
              "             learning_rate=0.300000012, max_delta_step=0, max_depth=6,\n",
              "             min_child_weight=1, missing=nan, monotone_constraints='()',\n",
              "             n_estimators=100, n_jobs=4, num_parallel_tree=1, random_state=0,\n",
              "             reg_alpha=0, reg_lambda=1, scale_pos_weight=1, subsample=1,\n",
              "             tree_method='exact', validate_parameters=1, verbosity=None)"
            ]
          },
          "execution_count": 93,
          "metadata": {},
          "output_type": "execute_result"
        }
      ],
      "source": [
        "xgb.fit(X_train,y_train)"
      ]
    },
    {
      "cell_type": "code",
      "execution_count": null,
      "metadata": {
        "execution": {
          "iopub.execute_input": "2021-03-28T15:07:56.366371Z",
          "iopub.status.busy": "2021-03-28T15:07:56.365604Z",
          "iopub.status.idle": "2021-03-28T15:07:56.370689Z",
          "shell.execute_reply": "2021-03-28T15:07:56.371219Z"
        },
        "papermill": {
          "duration": 0.15872,
          "end_time": "2021-03-28T15:07:56.371428",
          "exception": false,
          "start_time": "2021-03-28T15:07:56.212708",
          "status": "completed"
        },
        "tags": [],
        "id": "gYIvSuM985wC"
      },
      "outputs": [],
      "source": [
        "pred_xgb = xgb.predict(X_test)"
      ]
    },
    {
      "cell_type": "code",
      "execution_count": null,
      "metadata": {
        "execution": {
          "iopub.execute_input": "2021-03-28T15:07:56.673256Z",
          "iopub.status.busy": "2021-03-28T15:07:56.661920Z",
          "iopub.status.idle": "2021-03-28T15:07:56.684610Z",
          "shell.execute_reply": "2021-03-28T15:07:56.685300Z"
        },
        "papermill": {
          "duration": 0.170301,
          "end_time": "2021-03-28T15:07:56.685512",
          "exception": false,
          "start_time": "2021-03-28T15:07:56.515211",
          "status": "completed"
        },
        "tags": [],
        "id": "d31AbKDW85wD"
      },
      "outputs": [],
      "source": [
        "score_xgb = xgb.score(X_train,y_train)"
      ]
    },
    {
      "cell_type": "code",
      "execution_count": null,
      "metadata": {
        "execution": {
          "iopub.execute_input": "2021-03-28T15:07:56.978234Z",
          "iopub.status.busy": "2021-03-28T15:07:56.977468Z",
          "iopub.status.idle": "2021-03-28T15:07:56.980242Z",
          "shell.execute_reply": "2021-03-28T15:07:56.980784Z"
        },
        "papermill": {
          "duration": 0.153832,
          "end_time": "2021-03-28T15:07:56.980960",
          "exception": false,
          "start_time": "2021-03-28T15:07:56.827128",
          "status": "completed"
        },
        "tags": [],
        "id": "4DUX4E8M85wD",
        "outputId": "f09c9623-7080-4ac2-d0f6-11cd7db05cc2"
      },
      "outputs": [
        {
          "name": "stdout",
          "output_type": "stream",
          "text": [
            "0.9023726183249473\n"
          ]
        }
      ],
      "source": [
        "print(score_xgb)"
      ]
    },
    {
      "cell_type": "code",
      "execution_count": null,
      "metadata": {
        "execution": {
          "iopub.execute_input": "2021-03-28T15:07:57.266421Z",
          "iopub.status.busy": "2021-03-28T15:07:57.265649Z",
          "iopub.status.idle": "2021-03-28T15:07:57.272880Z",
          "shell.execute_reply": "2021-03-28T15:07:57.273498Z"
        },
        "papermill": {
          "duration": 0.151401,
          "end_time": "2021-03-28T15:07:57.273681",
          "exception": false,
          "start_time": "2021-03-28T15:07:57.122280",
          "status": "completed"
        },
        "tags": [],
        "id": "hS-I1pwO85wE"
      },
      "outputs": [],
      "source": [
        "mae_xgb = mean_absolute_error(y_test,pred_xgb)\n",
        "mse_xgb = mean_squared_error(y_test,pred_xgb)\n",
        "rmse_xgb = np.sqrt(mean_squared_error(y_test,pred_xgb))"
      ]
    },
    {
      "cell_type": "code",
      "execution_count": null,
      "metadata": {
        "execution": {
          "iopub.execute_input": "2021-03-28T15:07:57.598389Z",
          "iopub.status.busy": "2021-03-28T15:07:57.597471Z",
          "iopub.status.idle": "2021-03-28T15:07:57.604605Z",
          "shell.execute_reply": "2021-03-28T15:07:57.605116Z"
        },
        "papermill": {
          "duration": 0.155127,
          "end_time": "2021-03-28T15:07:57.605313",
          "exception": false,
          "start_time": "2021-03-28T15:07:57.450186",
          "status": "completed"
        },
        "tags": [],
        "id": "Dm_t6nTQ85wF",
        "outputId": "b2ac4166-df6f-4a9c-fc27-ee6c044386df"
      },
      "outputs": [
        {
          "name": "stdout",
          "output_type": "stream",
          "text": [
            "Mae_xgb:  126728.0119368349\n",
            "Mse_xgb:  38253387061.76033\n",
            "Rmse_xgb:  195584.73115701115\n"
          ]
        }
      ],
      "source": [
        "print('Mae_xgb: ',mae_xgb)\n",
        "print('Mse_xgb: ',mse_xgb)\n",
        "print('Rmse_xgb: ',rmse_xgb)"
      ]
    },
    {
      "cell_type": "code",
      "execution_count": null,
      "metadata": {
        "execution": {
          "iopub.execute_input": "2021-03-28T15:07:57.911397Z",
          "iopub.status.busy": "2021-03-28T15:07:57.910681Z",
          "iopub.status.idle": "2021-03-28T15:07:57.926223Z",
          "shell.execute_reply": "2021-03-28T15:07:57.926717Z"
        },
        "papermill": {
          "duration": 0.169505,
          "end_time": "2021-03-28T15:07:57.926904",
          "exception": false,
          "start_time": "2021-03-28T15:07:57.757399",
          "status": "completed"
        },
        "tags": [],
        "id": "SUtRtpTI85wG",
        "outputId": "85417c2c-6ea0-4ae2-945a-f71261c7a7f5"
      },
      "outputs": [
        {
          "data": {
            "text/html": [
              "<div>\n",
              "<style scoped>\n",
              "    .dataframe tbody tr th:only-of-type {\n",
              "        vertical-align: middle;\n",
              "    }\n",
              "\n",
              "    .dataframe tbody tr th {\n",
              "        vertical-align: top;\n",
              "    }\n",
              "\n",
              "    .dataframe thead th {\n",
              "        text-align: right;\n",
              "    }\n",
              "</style>\n",
              "<table border=\"1\" class=\"dataframe\">\n",
              "  <thead>\n",
              "    <tr style=\"text-align: right;\">\n",
              "      <th></th>\n",
              "      <th>Price</th>\n",
              "      <th>Predictions</th>\n",
              "      <th>Error</th>\n",
              "    </tr>\n",
              "  </thead>\n",
              "  <tbody>\n",
              "    <tr>\n",
              "      <th>0</th>\n",
              "      <td>221900.0</td>\n",
              "      <td>329656.78125</td>\n",
              "      <td>-107756.78125</td>\n",
              "    </tr>\n",
              "    <tr>\n",
              "      <th>1</th>\n",
              "      <td>538000.0</td>\n",
              "      <td>719878.81250</td>\n",
              "      <td>-181878.81250</td>\n",
              "    </tr>\n",
              "    <tr>\n",
              "      <th>2</th>\n",
              "      <td>180000.0</td>\n",
              "      <td>325304.18750</td>\n",
              "      <td>-145304.18750</td>\n",
              "    </tr>\n",
              "    <tr>\n",
              "      <th>3</th>\n",
              "      <td>604000.0</td>\n",
              "      <td>466939.03125</td>\n",
              "      <td>137060.96875</td>\n",
              "    </tr>\n",
              "    <tr>\n",
              "      <th>4</th>\n",
              "      <td>510000.0</td>\n",
              "      <td>753889.62500</td>\n",
              "      <td>-243889.62500</td>\n",
              "    </tr>\n",
              "  </tbody>\n",
              "</table>\n",
              "</div>"
            ],
            "text/plain": [
              "      Price   Predictions         Error\n",
              "0  221900.0  329656.78125 -107756.78125\n",
              "1  538000.0  719878.81250 -181878.81250\n",
              "2  180000.0  325304.18750 -145304.18750\n",
              "3  604000.0  466939.03125  137060.96875\n",
              "4  510000.0  753889.62500 -243889.62500"
            ]
          },
          "execution_count": 99,
          "metadata": {},
          "output_type": "execute_result"
        }
      ],
      "source": [
        "price_xgb = df['price']\n",
        "predict_xgb = pd.Series(pred_xgb)\n",
        "error_xgb = price_xgb-predict_xgb\n",
        "data_xgb = {'Price':price_xgb,'Predictions':predict_xgb,'Error':error_xgb}\n",
        "data_prev_xgb = pd.DataFrame(data_xgb)\n",
        "data_prev_xgb.head()"
      ]
    },
    {
      "cell_type": "code",
      "execution_count": null,
      "metadata": {
        "execution": {
          "iopub.execute_input": "2021-03-28T15:07:58.236629Z",
          "iopub.status.busy": "2021-03-28T15:07:58.235777Z",
          "iopub.status.idle": "2021-03-28T15:07:58.448984Z",
          "shell.execute_reply": "2021-03-28T15:07:58.449539Z"
        },
        "papermill": {
          "duration": 0.3728,
          "end_time": "2021-03-28T15:07:58.449743",
          "exception": false,
          "start_time": "2021-03-28T15:07:58.076943",
          "status": "completed"
        },
        "tags": [],
        "id": "RUN4jpx985wH",
        "outputId": "e3467c49-ff01-48f4-c8b0-4ef4d43b564d"
      },
      "outputs": [
        {
          "data": {
            "text/plain": [
              "[<matplotlib.lines.Line2D at 0x7fda4942f8d0>]"
            ]
          },
          "execution_count": 100,
          "metadata": {},
          "output_type": "execute_result"
        },
        {
          "data": {
            "image/png": "[encoded data removed]",
            "text/plain": [
              "<Figure size 720x432 with 1 Axes>"
            ]
          },
          "metadata": {
            "needs_background": "light"
          },
          "output_type": "display_data"
        }
      ],
      "source": [
        "resizeplot(10,6)\n",
        "plt.scatter(y_test,pred_xgb)\n",
        "plt.plot(y_test,y_test,color='red')"
      ]
    },
    {
      "cell_type": "code",
      "execution_count": null,
      "metadata": {
        "execution": {
          "iopub.execute_input": "2021-03-28T15:07:58.749103Z",
          "iopub.status.busy": "2021-03-28T15:07:58.748390Z",
          "iopub.status.idle": "2021-03-28T15:07:58.760694Z",
          "shell.execute_reply": "2021-03-28T15:07:58.761239Z"
        },
        "papermill": {
          "duration": 0.163054,
          "end_time": "2021-03-28T15:07:58.761432",
          "exception": false,
          "start_time": "2021-03-28T15:07:58.598378",
          "status": "completed"
        },
        "tags": [],
        "id": "cKjv4cSx85wI",
        "outputId": "bd369d06-0b6e-4233-c90c-15bf4e5d1f61"
      },
      "outputs": [
        {
          "name": "stdout",
          "output_type": "stream",
          "text": [
            "Decision Tree Regressor:  0.999 -> Rmse_DTR:  265916.24886469945\n",
            "Random Forrest Regressor:  0.958 -> Rmse_RFR:  194711.70232548064\n",
            "XGBOOST Regressor:  0.902 Rmse_XGB: -> 195584.73115701115\n",
            "Polynomial Regressor:  0.757 -> Rmse_POLY:  30917614.988717988\n",
            "Linear Regression:  0.607 Rmse_LR:  -> 234146.10296834935\n",
            "KNN Regressor:  0.59 Rmse_KNN:  -> 262994.8137385662\n"
          ]
        }
      ],
      "source": [
        "print('Decision Tree Regressor: ',round(score_dtr,3), '->', 'Rmse_DTR: ',rmse_dtr)\n",
        "print('Random Forrest Regressor: ', round(score_rfr,3), '->', 'Rmse_RFR: ',rmse_rfr)\n",
        "print('XGBOOST Regressor: ', round(score_xgb,3),'Rmse_XGB:','->',rmse_xgb)\n",
        "print('Polynomial Regressor: ', round(score_poly,3),'->','Rmse_POLY: ',rmse_poly)\n",
        "print('Linear Regression: ', round(score_lr,3),'Rmse_LR: ','->',rmse_lr)\n",
        "print('KNN Regressor: ', round(score_knr,3),'Rmse_KNN: ','->',rmse_knr)"
      ]
    },
    {
      "cell_type": "markdown",
      "metadata": {
        "papermill": {
          "duration": 0.143254,
          "end_time": "2021-03-28T15:07:59.054135",
          "exception": false,
          "start_time": "2021-03-28T15:07:58.910881",
          "status": "completed"
        },
        "tags": [],
        "id": "qVHXpe6885wJ"
      },
      "source": [
        "**Here Decision Tree gave us a 99% score, the Random Forest Regressor dos algorithm gave a lower score, 95%, however the mean square error was lower than Decision tree. In that case it will depend on what the analyst looks for in relation to the data and whether this average value will be and well above what he wants or enough enough for the insight of his business.**"
      ]
    }
  ],
  "metadata": {
    "kernelspec": {
      "display_name": "Python 3",
      "language": "python",
      "name": "python3"
    },
    "language_info": {
      "codemirror_mode": {
        "name": "ipython",
        "version": 3
      },
      "file_extension": ".py",
      "mimetype": "text/x-python",
      "name": "python",
      "nbconvert_exporter": "python",
      "pygments_lexer": "ipython3",
      "version": "3.7.9"
    },
    "papermill": {
      "default_parameters": {},
      "duration": 91.019247,
      "end_time": "2021-03-28T15:08:00.302008",
      "environment_variables": {},
      "exception": null,
      "input_path": "__notebook__.ipynb",
      "output_path": "__notebook__.ipynb",
      "parameters": {},
      "start_time": "2021-03-28T15:06:29.282761",
      "version": "2.2.2"
    },
    "colab": {
      "name": "CORE TASK 6 - Create a house price prediction project_Teena Joseph.ipynb",
      "provenance": [],
      "collapsed_sections": []
    }
  },
  "nbformat": 4,
  "nbformat_minor": 0
}